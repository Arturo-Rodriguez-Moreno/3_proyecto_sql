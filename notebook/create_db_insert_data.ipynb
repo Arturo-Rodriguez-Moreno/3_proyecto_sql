{
 "cells": [
  {
   "cell_type": "code",
   "execution_count": 1,
   "id": "152d9d6a",
   "metadata": {},
   "outputs": [],
   "source": [
    "import pandas as pd\n",
    "import numpy as np\n",
    "\n",
    "pd.set_option('display.max_columns', None)  # es para enseñar todas las columnas del df\n",
    "pd.set_option('display.max_rows', None)     # es para enseñar todas las filas del df\n",
    "\n",
    "\n",
    "import warnings\n",
    "warnings.simplefilter('ignore')   # es para quitar warnings\n",
    "\n",
    "import mysql.connector as conn"
   ]
  },
  {
   "cell_type": "markdown",
   "id": "ed250130",
   "metadata": {},
   "source": [
    "## Importo todos los archivos"
   ]
  },
  {
   "cell_type": "code",
   "execution_count": 2,
   "id": "8b821db2",
   "metadata": {},
   "outputs": [],
   "source": [
    "# Importo todos los csv\n",
    "\n",
    "catergory =pd.read_csv('../data/new_data/category.csv')\n",
    "\n",
    "language =pd.read_csv('../data/new_data/language.csv')\n",
    "\n",
    "actor =pd.read_csv('../data/new_data/actor.csv')\n",
    "\n",
    "actor_film =pd.read_csv('../data/new_data/actor_film.csv')\n",
    "\n",
    "film =pd.read_csv('../data/new_data/film.csv')\n",
    "\n",
    "inventory =pd.read_csv('../data/new_data/inventory.csv')\n",
    "\n",
    "rental =pd.read_csv('../data/new_data/rental.csv')\n",
    "\n",
    "store =pd.read_csv('../data/new_data/store.csv')\n",
    "\n",
    "customer =pd.read_csv('../data/new_data/customer.csv')\n",
    "\n",
    "staff =pd.read_csv('../data/new_data/staff.csv')\n",
    "\n"
   ]
  },
  {
   "cell_type": "markdown",
   "id": "32d0f524",
   "metadata": {},
   "source": [
    "## Crear base de datos en mySQL"
   ]
  },
  {
   "cell_type": "markdown",
   "id": "a4d60f44",
   "metadata": {},
   "source": [
    "### Creo conexion y base de datos"
   ]
  },
  {
   "cell_type": "code",
   "execution_count": 3,
   "id": "d4ba0e22",
   "metadata": {},
   "outputs": [],
   "source": [
    "# Conecta a una base de datos mysql y activa el cursor/motor\n",
    "\n",
    "password = \"\".join(open('../text/mysql_pass.txt', \"r\").readlines()) # Me traigo el password de mysql\n",
    "\n",
    "crea_db=conn.connect(host='localhost', user='root', passwd=password)\n",
    "\n",
    "cursor=crea_db.cursor()\n",
    "\n"
   ]
  },
  {
   "cell_type": "code",
   "execution_count": 4,
   "id": "d1a0852b",
   "metadata": {},
   "outputs": [],
   "source": [
    "# Crear base de datos\n",
    "\n",
    "cursor.execute('drop database if exists blockbuster;')\n",
    "cursor.execute('create database blockbuster;')"
   ]
  },
  {
   "cell_type": "code",
   "execution_count": 5,
   "id": "a6a9bcca",
   "metadata": {},
   "outputs": [],
   "source": [
    "db=conn.connect(host='localhost', user='root', passwd=password, database='blockbuster')\n",
    "\n",
    "cursor=db.cursor()"
   ]
  },
  {
   "cell_type": "code",
   "execution_count": 6,
   "id": "668679ea",
   "metadata": {},
   "outputs": [
    {
     "name": "stdout",
     "output_type": "stream",
     "text": [
      "('blockbuster',)\n",
      "('information_schema',)\n",
      "('mydb',)\n",
      "('mysql',)\n",
      "('performance_schema',)\n",
      "('publications',)\n",
      "('sys',)\n"
     ]
    }
   ],
   "source": [
    "# check si me creo la base de datos\n",
    "\n",
    "cursor.execute('show databases;')\n",
    "\n",
    "for x in cursor:\n",
    "    print(x)"
   ]
  },
  {
   "cell_type": "markdown",
   "id": "c879a5e9",
   "metadata": {},
   "source": [
    "## Creo tablas con sus caracteristicas"
   ]
  },
  {
   "cell_type": "code",
   "execution_count": 7,
   "id": "ec309488",
   "metadata": {},
   "outputs": [],
   "source": [
    "# Crear tabla 'actor'\n",
    "\n",
    "\n",
    "cursor.execute('drop table if exists actor;')\n",
    "\n",
    "\n",
    "\n",
    "tabla='''\n",
    "\n",
    "        create table actor (\n",
    "            \n",
    "            actor_id int primary key,\n",
    "            first_name varchar(50),\n",
    "            last_name  varchar(50)\n",
    "        );\n",
    "\n",
    "'''\n",
    "\n",
    "\n",
    "cursor.execute(tabla)"
   ]
  },
  {
   "cell_type": "code",
   "execution_count": 8,
   "id": "54ac5830",
   "metadata": {},
   "outputs": [],
   "source": [
    "# Crear tabla 'language'\n",
    "\n",
    "cursor.execute('drop table if exists language')\n",
    "\n",
    "tabla= '''\n",
    "            create table language (\n",
    "            \n",
    "            language_id int primary key,\n",
    "            name varchar(50)         \n",
    "            \n",
    "            );\n",
    "'''\n",
    "cursor.execute(tabla)"
   ]
  },
  {
   "cell_type": "code",
   "execution_count": 9,
   "id": "0f87894b",
   "metadata": {},
   "outputs": [],
   "source": [
    "# Crear tabla 'category'\n",
    "\n",
    "cursor.execute('drop table if exists category')\n",
    "\n",
    "tabla = '''\n",
    "            create table category(\n",
    "            category_id int primary key,\n",
    "            name varchar(50)\n",
    "            \n",
    "            );\n",
    "'''\n",
    "\n",
    "cursor.execute(tabla)"
   ]
  },
  {
   "cell_type": "code",
   "execution_count": 10,
   "id": "333a901b",
   "metadata": {},
   "outputs": [],
   "source": [
    "# Crear tabla 'film'\n",
    "\n",
    "cursor.execute('drop table if exists film')\n",
    "\n",
    "tabla = '''\n",
    "            create table film(\n",
    "            \n",
    "            film_id int primary key,\n",
    "            title varchar(50),\n",
    "            description varchar(250),\n",
    "            release_year int,\n",
    "            rental_duration int,\n",
    "            rental_rate float,\n",
    "            length int,\n",
    "            replacement_cost float,\n",
    "            special_features varchar(250),\n",
    "            rating varchar(50),\n",
    "            language_id int,\n",
    "            category_id int\n",
    "            \n",
    "            );\n",
    "'''\n",
    "\n",
    "cursor.execute(tabla)"
   ]
  },
  {
   "cell_type": "code",
   "execution_count": 11,
   "id": "b0311f71",
   "metadata": {},
   "outputs": [],
   "source": [
    "# Crear tabla 'inventory'\n",
    "\n",
    "cursor.execute('drop table if exists inventory')\n",
    "\n",
    "tabla = '''\n",
    "            create table inventory(\n",
    "            \n",
    "            inventory_id int primary key,\n",
    "            film_id int,\n",
    "            store_id int\n",
    "            \n",
    "            );\n",
    "'''\n",
    "\n",
    "cursor.execute(tabla)"
   ]
  },
  {
   "cell_type": "code",
   "execution_count": 12,
   "id": "09834384",
   "metadata": {},
   "outputs": [],
   "source": [
    "# Crear tabla 'rental'\n",
    "\n",
    "cursor.execute('drop table if exists rental')\n",
    "\n",
    "tabla = '''\n",
    "            create table rental(\n",
    "            \n",
    "            rental_id int primary key,\n",
    "            rental_date datetime,\n",
    "            return_date datetime,\n",
    "            inventory_id int,\n",
    "            customer_id int,\n",
    "            staff_id int\n",
    "            \n",
    "            );\n",
    "'''\n",
    "\n",
    "cursor.execute(tabla)"
   ]
  },
  {
   "cell_type": "code",
   "execution_count": 13,
   "id": "656360a2",
   "metadata": {},
   "outputs": [],
   "source": [
    "# Creo tabla 'store'\n",
    "\n",
    "cursor.execute('drop table if exists store')\n",
    "\n",
    "tabla = ''' \n",
    "            create table store(\n",
    "            \n",
    "            store_id int primary key,\n",
    "            name varchar(50),\n",
    "            city varchar(50)\n",
    "    \n",
    "            );\n",
    "\n",
    "'''\n",
    "\n",
    "cursor.execute(tabla)"
   ]
  },
  {
   "cell_type": "code",
   "execution_count": 14,
   "id": "a0289216",
   "metadata": {},
   "outputs": [],
   "source": [
    "# Creo tabla 'customer'\n",
    "\n",
    "cursor.execute('drop table if exists customer')\n",
    "\n",
    "tabla = '''\n",
    "            create table customer(\n",
    "            \n",
    "            customer_id int primary key,\n",
    "            firstname varchar(50),\n",
    "            lastname varchar(50),\n",
    "            email varchar(100)\n",
    "            \n",
    "            );\n",
    "\n",
    "\n",
    "'''\n",
    "cursor.execute(tabla)"
   ]
  },
  {
   "cell_type": "code",
   "execution_count": 15,
   "id": "4f448fe6",
   "metadata": {},
   "outputs": [],
   "source": [
    "# Creo tabla 'staff'\n",
    "\n",
    "cursor.execute('drop table if exists staff')\n",
    "\n",
    "tabla = '''\n",
    "            create table staff(\n",
    "            \n",
    "            staff_id int primary key,\n",
    "            firstname varchar(50),\n",
    "            lastname varchar(50),\n",
    "            salary int\n",
    "            \n",
    "            );\n",
    "\n",
    "'''\n",
    "\n",
    "cursor.execute(tabla)"
   ]
  },
  {
   "cell_type": "code",
   "execution_count": 16,
   "id": "9eb636ef",
   "metadata": {},
   "outputs": [],
   "source": [
    "# Creo la tabla 'actor_film' que hará de tabla intermedia en la relación many to many entre 'actor' y 'film'\n",
    "\n",
    "cursor.execute('drop table if exists actor_film')\n",
    "\n",
    "tabla = ''' \n",
    "            create table actor_film(\n",
    "            \n",
    "            actor_id int not null,\n",
    "            film_id int not null,\n",
    "            primary key(actor_id, film_id)\n",
    "            \n",
    "            \n",
    "            );\n",
    "\n",
    "\n",
    "'''\n",
    "\n",
    "cursor.execute(tabla)"
   ]
  },
  {
   "cell_type": "markdown",
   "id": "9dc1d908",
   "metadata": {},
   "source": [
    "## Introduzco datos en las tablas"
   ]
  },
  {
   "cell_type": "code",
   "execution_count": 17,
   "id": "20026027",
   "metadata": {},
   "outputs": [],
   "source": [
    "#  insert into tabla (columnas) values (valores);\n",
    "\n",
    "def insert(df, table):\n",
    "\n",
    "    for i in range(len(df)):\n",
    "        \n",
    "        insert_query=f\"insert into {table} ({','.join(df.columns)}) values {tuple(df.iloc[i].values)};\"\n",
    "    \n",
    "        cursor.execute(insert_query)\n",
    "    \n",
    "    \n",
    "    db.commit()\n",
    "    print('Comiteado!')"
   ]
  },
  {
   "cell_type": "code",
   "execution_count": 18,
   "id": "302ffb88",
   "metadata": {},
   "outputs": [
    {
     "name": "stdout",
     "output_type": "stream",
     "text": [
      "Comiteado!\n"
     ]
    }
   ],
   "source": [
    "# Cargo datos a 'category'\n",
    "\n",
    "insert(catergory, 'category')"
   ]
  },
  {
   "cell_type": "code",
   "execution_count": 19,
   "id": "7b2a49c2",
   "metadata": {},
   "outputs": [
    {
     "name": "stdout",
     "output_type": "stream",
     "text": [
      "Comiteado!\n"
     ]
    }
   ],
   "source": [
    "# Cargo datos a 'language'\n",
    "\n",
    "insert(language, 'language')"
   ]
  },
  {
   "cell_type": "code",
   "execution_count": 20,
   "id": "8f69a605",
   "metadata": {},
   "outputs": [
    {
     "name": "stdout",
     "output_type": "stream",
     "text": [
      "Comiteado!\n"
     ]
    }
   ],
   "source": [
    "# Cargo datos a 'actor'\n",
    "\n",
    "insert(actor, 'actor')"
   ]
  },
  {
   "cell_type": "code",
   "execution_count": 21,
   "id": "5075360f",
   "metadata": {},
   "outputs": [
    {
     "name": "stdout",
     "output_type": "stream",
     "text": [
      "Comiteado!\n"
     ]
    }
   ],
   "source": [
    "# Cargo datos a 'film'\n",
    "\n",
    "insert(film, 'film')"
   ]
  },
  {
   "cell_type": "code",
   "execution_count": 22,
   "id": "94bc73b1",
   "metadata": {},
   "outputs": [
    {
     "name": "stdout",
     "output_type": "stream",
     "text": [
      "Comiteado!\n"
     ]
    }
   ],
   "source": [
    "# Cargo datos a 'inventory'\n",
    "\n",
    "insert(inventory, 'inventory')"
   ]
  },
  {
   "cell_type": "code",
   "execution_count": 23,
   "id": "0f59e089",
   "metadata": {},
   "outputs": [
    {
     "name": "stdout",
     "output_type": "stream",
     "text": [
      "Comiteado!\n"
     ]
    }
   ],
   "source": [
    "# Cargo datos a 'rental'\n",
    "\n",
    "insert(rental, 'rental')"
   ]
  },
  {
   "cell_type": "code",
   "execution_count": 24,
   "id": "b05be4e1",
   "metadata": {},
   "outputs": [
    {
     "name": "stdout",
     "output_type": "stream",
     "text": [
      "Comiteado!\n"
     ]
    }
   ],
   "source": [
    "# Cargo datos a 'store'\n",
    "\n",
    "insert(store, 'store')"
   ]
  },
  {
   "cell_type": "code",
   "execution_count": 25,
   "id": "09b8d95c",
   "metadata": {},
   "outputs": [
    {
     "name": "stdout",
     "output_type": "stream",
     "text": [
      "Comiteado!\n"
     ]
    }
   ],
   "source": [
    "# Cargo datos a 'customer'\n",
    "\n",
    "insert(customer, 'customer')"
   ]
  },
  {
   "cell_type": "code",
   "execution_count": 26,
   "id": "ea3b9984",
   "metadata": {},
   "outputs": [
    {
     "name": "stdout",
     "output_type": "stream",
     "text": [
      "Comiteado!\n"
     ]
    }
   ],
   "source": [
    "# Cargo datos a 'staff'\n",
    "\n",
    "insert(staff, 'staff')"
   ]
  },
  {
   "cell_type": "code",
   "execution_count": 27,
   "id": "99adad6e",
   "metadata": {
    "scrolled": true
   },
   "outputs": [
    {
     "name": "stdout",
     "output_type": "stream",
     "text": [
      "Comiteado!\n"
     ]
    }
   ],
   "source": [
    "# Cargo datos a 'actor_film'\n",
    "\n",
    "insert(actor_film, 'actor_film')"
   ]
  },
  {
   "cell_type": "markdown",
   "id": "b1e152c8",
   "metadata": {},
   "source": [
    "## Creo realaciones entre tablas"
   ]
  },
  {
   "cell_type": "code",
   "execution_count": 28,
   "id": "104d4911",
   "metadata": {},
   "outputs": [],
   "source": [
    "# Creo todas las relaciones de una vez\n",
    "\n",
    "# Me genera un error\n",
    "# DatabaseError: 2014 (HY000): Commands out of sync; you can't run this command now\n",
    "# No se que mierda del buffer con las queries\n",
    "\n",
    "relation = '''\n",
    "        \n",
    "-- relaciones entre tabla 'film' y 'category' y 'language'\n",
    "        \n",
    "        \n",
    "            alter table film\n",
    "            add foreign key(category_id)\n",
    "            references category(category_id)\n",
    "            on delete set null;\n",
    "        \n",
    "            alter table film\n",
    "            add foreign key(language_id)\n",
    "            references language(language_id)\n",
    "            on delete set null;\n",
    "            \n",
    "            \n",
    "-- relaciones entre tabla 'inventory' y 'film' y 'store'\n",
    "\n",
    "            alter table inventory\n",
    "            add foreign key(film_id)\n",
    "            references film(film_id)\n",
    "            on delete set null;\n",
    "\n",
    "\n",
    "\n",
    "            alter table inventory\n",
    "            add foreign key(store_id)\n",
    "            references store(store_id)\n",
    "            on delete set null;\n",
    "            \n",
    "-- relaciones entre tabla 'rental' y 'inventory', 'customer' y 'staff'\n",
    "\n",
    "            alter table rental\n",
    "            add foreign key(inventory_id)\n",
    "            references inventory(inventory_id)\n",
    "            on delete set null;\n",
    "\n",
    "\n",
    "\n",
    "            alter table rental\n",
    "            add foreign key(customer_id)\n",
    "            references customer(customer_id)\n",
    "            on delete set null;\n",
    "            \n",
    "            alter table rental\n",
    "            add foreign key(staff_id)\n",
    "            references staff(staff_id)\n",
    "            on delete set null;\n",
    "\n",
    "\n",
    "-- relaciones entre tabla 'actor_film' y 'actor' y 'film'\n",
    "-- relacion many to many\n",
    "\n",
    "\n",
    "                alter table actor_film\n",
    "                add constraint \n",
    "                fk_actorfilm__actor foreign key(actor_id) references actor(actor_id);\n",
    "\n",
    "                alter table actor_film\n",
    "                add constraint \n",
    "                fk_actorfilm__film foreign key(film_id) references film(film_id);\n",
    "\n",
    "        \n",
    "'''\n",
    "\n",
    "# cursor.execute(relation)"
   ]
  }
 ],
 "metadata": {
  "kernelspec": {
   "display_name": "clase",
   "language": "python",
   "name": "clase"
  },
  "language_info": {
   "codemirror_mode": {
    "name": "ipython",
    "version": 3
   },
   "file_extension": ".py",
   "mimetype": "text/x-python",
   "name": "python",
   "nbconvert_exporter": "python",
   "pygments_lexer": "ipython3",
   "version": "3.9.7"
  }
 },
 "nbformat": 4,
 "nbformat_minor": 5
}
