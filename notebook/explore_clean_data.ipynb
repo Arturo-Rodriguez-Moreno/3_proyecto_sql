{
 "cells": [
  {
   "cell_type": "code",
   "execution_count": 1,
   "id": "fb4137ee",
   "metadata": {},
   "outputs": [
    {
     "name": "stdout",
     "output_type": "stream",
     "text": [
      "Requirement already satisfied: mysql-connector-python in c:\\users\\usuario\\.conda\\envs\\clase\\lib\\site-packages (8.0.28)\n",
      "Requirement already satisfied: protobuf>=3.0.0 in c:\\users\\usuario\\.conda\\envs\\clase\\lib\\site-packages (from mysql-connector-python) (3.20.0)\n"
     ]
    }
   ],
   "source": [
    "!pip install mysql-connector-python"
   ]
  },
  {
   "cell_type": "code",
   "execution_count": 2,
   "id": "1424d323",
   "metadata": {},
   "outputs": [],
   "source": [
    "import pandas as pd\n",
    "import numpy as np\n",
    "\n",
    "pd.set_option('display.max_columns', None)  # es para enseñar todas las columnas del df\n",
    "pd.set_option('display.max_rows', None)     # es para enseñar todas las filas del df\n",
    "\n",
    "\n",
    "import warnings\n",
    "warnings.simplefilter('ignore')   # es para quitar warnings"
   ]
  },
  {
   "cell_type": "code",
   "execution_count": 3,
   "id": "2f2bf802",
   "metadata": {},
   "outputs": [],
   "source": [
    "import mysql.connector as conn"
   ]
  },
  {
   "cell_type": "markdown",
   "id": "33d1d509",
   "metadata": {},
   "source": [
    "## ACTOR"
   ]
  },
  {
   "cell_type": "code",
   "execution_count": 4,
   "id": "9789446a",
   "metadata": {},
   "outputs": [],
   "source": [
    "df_actor=pd.read_csv('../data/actor.csv')\n"
   ]
  },
  {
   "cell_type": "code",
   "execution_count": 5,
   "id": "9606c9f4",
   "metadata": {},
   "outputs": [],
   "source": [
    "# Elimino la columna 'last_update'\n",
    "\n",
    "df_actor = df_actor.drop(['last_update'], axis=1)"
   ]
  },
  {
   "cell_type": "code",
   "execution_count": 6,
   "id": "30aafd16",
   "metadata": {
    "scrolled": true
   },
   "outputs": [
    {
     "name": "stdout",
     "output_type": "stream",
     "text": [
      "<class 'pandas.core.frame.DataFrame'>\n",
      "RangeIndex: 200 entries, 0 to 199\n",
      "Data columns (total 3 columns):\n",
      " #   Column      Non-Null Count  Dtype \n",
      "---  ------      --------------  ----- \n",
      " 0   actor_id    200 non-null    int64 \n",
      " 1   first_name  200 non-null    object\n",
      " 2   last_name   200 non-null    object\n",
      "dtypes: int64(1), object(2)\n",
      "memory usage: 26.2 KB\n"
     ]
    }
   ],
   "source": [
    "df_actor.info(memory_usage='deep')"
   ]
  },
  {
   "cell_type": "code",
   "execution_count": 7,
   "id": "970b5beb",
   "metadata": {},
   "outputs": [
    {
     "data": {
      "text/plain": [
       "True"
      ]
     },
     "execution_count": 7,
     "metadata": {},
     "output_type": "execute_result"
    }
   ],
   "source": [
    "len(df_actor.drop_duplicates())==len(df_actor)  # no hay duplicados"
   ]
  },
  {
   "cell_type": "markdown",
   "id": "40400b08",
   "metadata": {},
   "source": [
    "## CATEGORY"
   ]
  },
  {
   "cell_type": "code",
   "execution_count": 8,
   "id": "73db8694",
   "metadata": {},
   "outputs": [],
   "source": [
    "df_category=pd.read_csv('../data/category.csv')"
   ]
  },
  {
   "cell_type": "code",
   "execution_count": 9,
   "id": "2fbb5577",
   "metadata": {},
   "outputs": [],
   "source": [
    "# Elimino la columna 'last_update'\n",
    "\n",
    "df_category = df_category.drop(['last_update'], axis=1)"
   ]
  },
  {
   "cell_type": "code",
   "execution_count": 10,
   "id": "54f637e2",
   "metadata": {},
   "outputs": [],
   "source": [
    "# Crear una fila nueva con una nueva categoría.\n",
    "\n",
    "df2 = pd.DataFrame({'category_id': [99],\n",
    "                    'name' : ['Unknown']})\n",
    "\n",
    "df_category = pd.concat([df_category, df2], ignore_index = True, axis = 0)"
   ]
  },
  {
   "cell_type": "markdown",
   "id": "53d1203c",
   "metadata": {},
   "source": [
    "## FILM"
   ]
  },
  {
   "cell_type": "code",
   "execution_count": 11,
   "id": "ea594fd2",
   "metadata": {},
   "outputs": [],
   "source": [
    "df_film=pd.read_csv('../data/film.csv')"
   ]
  },
  {
   "cell_type": "markdown",
   "id": "de95559c",
   "metadata": {},
   "source": [
    "## INVENTORY"
   ]
  },
  {
   "cell_type": "code",
   "execution_count": 12,
   "id": "2d8265a6",
   "metadata": {},
   "outputs": [],
   "source": [
    "df_inventory=pd.read_csv('../data/inventory.csv')"
   ]
  },
  {
   "cell_type": "code",
   "execution_count": 13,
   "id": "74ddc36c",
   "metadata": {},
   "outputs": [],
   "source": [
    "# Elimino la columna 'last_update'\n",
    "\n",
    "df_inventory = df_inventory.drop(['last_update'], axis=1)"
   ]
  },
  {
   "cell_type": "markdown",
   "id": "6680c773",
   "metadata": {},
   "source": [
    "## LANGUAGE"
   ]
  },
  {
   "cell_type": "code",
   "execution_count": 14,
   "id": "7243d873",
   "metadata": {},
   "outputs": [],
   "source": [
    "df_language=pd.read_csv('../data/language.csv')\n"
   ]
  },
  {
   "cell_type": "code",
   "execution_count": 15,
   "id": "6a1e5492",
   "metadata": {},
   "outputs": [],
   "source": [
    "# Elimino la columna 'last_update'\n",
    "\n",
    "df_language = df_language.drop(['last_update'], axis=1)"
   ]
  },
  {
   "cell_type": "markdown",
   "id": "0142a5ed",
   "metadata": {},
   "source": [
    "## RENTAL"
   ]
  },
  {
   "cell_type": "code",
   "execution_count": 16,
   "id": "ed55a4d5",
   "metadata": {
    "scrolled": true
   },
   "outputs": [],
   "source": [
    "df_rental=pd.read_csv('../data/rental.csv')"
   ]
  },
  {
   "cell_type": "code",
   "execution_count": 17,
   "id": "88909e27",
   "metadata": {},
   "outputs": [],
   "source": [
    "# Cambio el 'return_date' a formato 'date'\n",
    "\n",
    "df_rental.rental_date = pd.to_datetime(df_rental.rental_date, format= '%Y-%m-%d')\n",
    "df_rental.return_date = pd.to_datetime(df_rental.return_date, format= '%Y-%m-%d')"
   ]
  },
  {
   "cell_type": "code",
   "execution_count": 18,
   "id": "4e565648",
   "metadata": {},
   "outputs": [],
   "source": [
    "# Elimino la columna 'last_update'\n",
    "\n",
    "df_rental = df_rental.drop(['last_update'], axis=1)"
   ]
  },
  {
   "cell_type": "markdown",
   "id": "d42fa9b2",
   "metadata": {},
   "source": [
    "### OLD_HDD - Relaciones titulo, actor y categoría"
   ]
  },
  {
   "cell_type": "code",
   "execution_count": 19,
   "id": "66596f35",
   "metadata": {},
   "outputs": [],
   "source": [
    "df_old_HDD=pd.read_csv('../data/old_HDD.csv')"
   ]
  },
  {
   "cell_type": "code",
   "execution_count": 20,
   "id": "36f5a1f9",
   "metadata": {
    "scrolled": true
   },
   "outputs": [
    {
     "name": "stdout",
     "output_type": "stream",
     "text": [
      "<class 'pandas.core.frame.DataFrame'>\n",
      "RangeIndex: 1000 entries, 0 to 999\n",
      "Data columns (total 5 columns):\n",
      " #   Column        Non-Null Count  Dtype \n",
      "---  ------        --------------  ----- \n",
      " 0   first_name    1000 non-null   object\n",
      " 1   last_name     1000 non-null   object\n",
      " 2   title         1000 non-null   object\n",
      " 3   release_year  1000 non-null   int64 \n",
      " 4   category_id   1000 non-null   int64 \n",
      "dtypes: int64(2), object(3)\n",
      "memory usage: 207.6 KB\n"
     ]
    }
   ],
   "source": [
    "df_old_HDD.info(memory_usage='deep')"
   ]
  },
  {
   "cell_type": "markdown",
   "id": "efdd7de3",
   "metadata": {},
   "source": [
    "# Modificar y limpiar"
   ]
  },
  {
   "cell_type": "markdown",
   "id": "c63ea4fd",
   "metadata": {},
   "source": [
    "## Modifico tabla film"
   ]
  },
  {
   "cell_type": "code",
   "execution_count": 21,
   "id": "78d6a8f6",
   "metadata": {},
   "outputs": [],
   "source": [
    "# Hago un left join en 'df_film' para obtener 'category_id', haciendo que en films y old_HDD el index sea title.\n",
    "\n",
    "\n",
    "film = df_film.set_index('title').join(df_old_HDD[[\"title\", \"category_id\"]].set_index('title'), lsuffix='', rsuffix='_dcha', how='left')\n"
   ]
  },
  {
   "cell_type": "code",
   "execution_count": 22,
   "id": "3477a5ab",
   "metadata": {},
   "outputs": [],
   "source": [
    "# Le elimino duplicado que se generan\n",
    "\n",
    "film.drop_duplicates(inplace=True)"
   ]
  },
  {
   "cell_type": "code",
   "execution_count": 23,
   "id": "37e0ef0f",
   "metadata": {},
   "outputs": [],
   "source": [
    "# Le reseteo el indice\n",
    "\n",
    "film.reset_index(inplace=True)"
   ]
  },
  {
   "cell_type": "code",
   "execution_count": 24,
   "id": "1a592b4d",
   "metadata": {},
   "outputs": [],
   "source": [
    "# Relleno en la tabla film la columna category_id con 99 \n",
    "\n",
    "film.category_id.fillna(99, inplace=True)\n",
    "\n",
    "# Modificar la columna de category_id\n",
    "\n",
    "film.category_id = film.category_id.astype(dtype='int64')"
   ]
  },
  {
   "cell_type": "code",
   "execution_count": 25,
   "id": "1b2e4e19",
   "metadata": {},
   "outputs": [],
   "source": [
    "# Elimino la columna de original_language_id\n",
    "\n",
    "film.drop('original_language_id', axis=1, inplace=True)"
   ]
  },
  {
   "cell_type": "code",
   "execution_count": 26,
   "id": "25736c72",
   "metadata": {},
   "outputs": [],
   "source": [
    "# Elimino la columna 'last_update'\n",
    "\n",
    "film = film.drop(['last_update'], axis=1)"
   ]
  },
  {
   "cell_type": "markdown",
   "id": "9d1a086d",
   "metadata": {},
   "source": [
    "## Creo tabla actor_film"
   ]
  },
  {
   "cell_type": "code",
   "execution_count": 27,
   "id": "f424c56c",
   "metadata": {},
   "outputs": [],
   "source": [
    "actor = df_actor.copy(deep=True)"
   ]
  },
  {
   "cell_type": "code",
   "execution_count": 28,
   "id": "1636738b",
   "metadata": {},
   "outputs": [],
   "source": [
    "# Creo una columna y concateno first name y last name\n",
    "\n",
    "actor['name'] = actor['first_name'] + ' ' + actor['last_name']"
   ]
  },
  {
   "cell_type": "code",
   "execution_count": 29,
   "id": "661fc259",
   "metadata": {},
   "outputs": [],
   "source": [
    "hdd = df_old_HDD"
   ]
  },
  {
   "cell_type": "code",
   "execution_count": 30,
   "id": "d3a7a115",
   "metadata": {},
   "outputs": [],
   "source": [
    "# Creo una columna nueva y concateno first name y last name\n",
    "\n",
    "hdd['name'] = hdd['first_name'] + ' ' + hdd['last_name']"
   ]
  },
  {
   "cell_type": "code",
   "execution_count": 31,
   "id": "66f17a0c",
   "metadata": {},
   "outputs": [],
   "source": [
    "# Creo la tabla 'actor_film' que voy a utilizar como relación many to many entre actor y film.\n",
    "\n",
    "# Primero uso hdd para hacer un join a través del indice 'title' y obtener 'film_id'\n",
    "\n",
    "actor_film = hdd.set_index('title').join(film[[\"title\", \"film_id\"]].set_index('title'), lsuffix='', rsuffix='_dcha', how='left')\n"
   ]
  },
  {
   "cell_type": "code",
   "execution_count": 32,
   "id": "6e5e5fe2",
   "metadata": {},
   "outputs": [],
   "source": [
    "# Elimino duplicados por si se generaran\n",
    "\n",
    "actor_film.drop_duplicates(inplace=True)"
   ]
  },
  {
   "cell_type": "code",
   "execution_count": 33,
   "id": "cf1ba8bc",
   "metadata": {},
   "outputs": [],
   "source": [
    "# Reseteo el indice para que la columna 'title' vuelva a ser una columna\n",
    "\n",
    "actor_film.reset_index(inplace=True)"
   ]
  },
  {
   "cell_type": "code",
   "execution_count": 34,
   "id": "1642ef27",
   "metadata": {},
   "outputs": [],
   "source": [
    "# Primero uso 'actor_film' para hacer un join a través del indice 'name' y obtener 'actor_id'\n",
    "\n",
    "actor_film = actor_film.set_index('name').join(actor[[\"name\", \"actor_id\"]].set_index('name'), lsuffix='', rsuffix='_dcha', how='left')"
   ]
  },
  {
   "cell_type": "code",
   "execution_count": 35,
   "id": "907ef14f",
   "metadata": {},
   "outputs": [],
   "source": [
    "# Elimino duplicados y reseteo el índice\n",
    "\n",
    "actor_film.drop_duplicates(inplace=True)\n",
    "actor_film.reset_index(inplace=True)"
   ]
  },
  {
   "cell_type": "code",
   "execution_count": 36,
   "id": "06cffcbb",
   "metadata": {},
   "outputs": [],
   "source": [
    "# Sobreescribo 'actor_film' solo con las columnas de 'actor_id' y 'film_id'\n",
    "\n",
    "actor_film = actor_film[['actor_id', 'film_id']]"
   ]
  },
  {
   "cell_type": "markdown",
   "id": "786a3746",
   "metadata": {},
   "source": [
    "## Compruebo que todas las tablas este perfectas para subir"
   ]
  },
  {
   "cell_type": "code",
   "execution_count": 37,
   "id": "05b1d068",
   "metadata": {},
   "outputs": [
    {
     "data": {
      "text/html": [
       "<div>\n",
       "<style scoped>\n",
       "    .dataframe tbody tr th:only-of-type {\n",
       "        vertical-align: middle;\n",
       "    }\n",
       "\n",
       "    .dataframe tbody tr th {\n",
       "        vertical-align: top;\n",
       "    }\n",
       "\n",
       "    .dataframe thead th {\n",
       "        text-align: right;\n",
       "    }\n",
       "</style>\n",
       "<table border=\"1\" class=\"dataframe\">\n",
       "  <thead>\n",
       "    <tr style=\"text-align: right;\">\n",
       "      <th></th>\n",
       "      <th>rental_id</th>\n",
       "      <th>rental_date</th>\n",
       "      <th>inventory_id</th>\n",
       "      <th>customer_id</th>\n",
       "      <th>return_date</th>\n",
       "      <th>staff_id</th>\n",
       "    </tr>\n",
       "  </thead>\n",
       "  <tbody>\n",
       "    <tr>\n",
       "      <th>0</th>\n",
       "      <td>1</td>\n",
       "      <td>2005-05-24 22:53:30</td>\n",
       "      <td>367</td>\n",
       "      <td>130</td>\n",
       "      <td>2005-05-26 22:04:30</td>\n",
       "      <td>1</td>\n",
       "    </tr>\n",
       "    <tr>\n",
       "      <th>1</th>\n",
       "      <td>2</td>\n",
       "      <td>2005-05-24 22:54:33</td>\n",
       "      <td>1525</td>\n",
       "      <td>459</td>\n",
       "      <td>2005-05-28 19:40:33</td>\n",
       "      <td>1</td>\n",
       "    </tr>\n",
       "    <tr>\n",
       "      <th>2</th>\n",
       "      <td>3</td>\n",
       "      <td>2005-05-24 23:03:39</td>\n",
       "      <td>1711</td>\n",
       "      <td>408</td>\n",
       "      <td>2005-06-01 22:12:39</td>\n",
       "      <td>1</td>\n",
       "    </tr>\n",
       "    <tr>\n",
       "      <th>3</th>\n",
       "      <td>4</td>\n",
       "      <td>2005-05-24 23:04:41</td>\n",
       "      <td>2452</td>\n",
       "      <td>333</td>\n",
       "      <td>2005-06-03 01:43:41</td>\n",
       "      <td>2</td>\n",
       "    </tr>\n",
       "    <tr>\n",
       "      <th>4</th>\n",
       "      <td>5</td>\n",
       "      <td>2005-05-24 23:05:21</td>\n",
       "      <td>2079</td>\n",
       "      <td>222</td>\n",
       "      <td>2005-06-02 04:33:21</td>\n",
       "      <td>1</td>\n",
       "    </tr>\n",
       "  </tbody>\n",
       "</table>\n",
       "</div>"
      ],
      "text/plain": [
       "   rental_id         rental_date  inventory_id  customer_id  \\\n",
       "0          1 2005-05-24 22:53:30           367          130   \n",
       "1          2 2005-05-24 22:54:33          1525          459   \n",
       "2          3 2005-05-24 23:03:39          1711          408   \n",
       "3          4 2005-05-24 23:04:41          2452          333   \n",
       "4          5 2005-05-24 23:05:21          2079          222   \n",
       "\n",
       "          return_date  staff_id  \n",
       "0 2005-05-26 22:04:30         1  \n",
       "1 2005-05-28 19:40:33         1  \n",
       "2 2005-06-01 22:12:39         1  \n",
       "3 2005-06-03 01:43:41         2  \n",
       "4 2005-06-02 04:33:21         1  "
      ]
     },
     "execution_count": 37,
     "metadata": {},
     "output_type": "execute_result"
    }
   ],
   "source": [
    "df_rental.head()"
   ]
  },
  {
   "cell_type": "code",
   "execution_count": 38,
   "id": "6a70bab8",
   "metadata": {},
   "outputs": [
    {
     "name": "stdout",
     "output_type": "stream",
     "text": [
      "<class 'pandas.core.frame.DataFrame'>\n",
      "RangeIndex: 1000 entries, 0 to 999\n",
      "Data columns (total 3 columns):\n",
      " #   Column        Non-Null Count  Dtype\n",
      "---  ------        --------------  -----\n",
      " 0   inventory_id  1000 non-null   int64\n",
      " 1   film_id       1000 non-null   int64\n",
      " 2   store_id      1000 non-null   int64\n",
      "dtypes: int64(3)\n",
      "memory usage: 23.6 KB\n"
     ]
    }
   ],
   "source": [
    "df_inventory.info()"
   ]
  },
  {
   "cell_type": "code",
   "execution_count": null,
   "id": "a65cd11c",
   "metadata": {},
   "outputs": [],
   "source": []
  },
  {
   "cell_type": "code",
   "execution_count": 39,
   "id": "657d3e8c",
   "metadata": {},
   "outputs": [],
   "source": [
    "password = \"\".join(open('../text/mysql_pass.txt', \"r\").readlines())\n"
   ]
  },
  {
   "cell_type": "code",
   "execution_count": 40,
   "id": "6e3600d1",
   "metadata": {},
   "outputs": [],
   "source": [
    "# Conecta a una base de datos mysql y activa el cursor/motor\n",
    "\n",
    "password = \"\".join(open('../text/mysql_pass.txt', \"r\").readlines()) # Me traigo el password de mysql\n",
    "\n",
    "crea_db=conn.connect(host='localhost', user='root', passwd=password)\n",
    "\n",
    "cursor=crea_db.cursor()\n",
    "\n"
   ]
  },
  {
   "cell_type": "code",
   "execution_count": 41,
   "id": "b46c03a0",
   "metadata": {},
   "outputs": [],
   "source": [
    "# Crear base de datos\n",
    "\n",
    "cursor.execute('drop database if exists blockbuster;')\n",
    "cursor.execute('create database blockbuster;')"
   ]
  },
  {
   "cell_type": "code",
   "execution_count": 42,
   "id": "ab04b9f2",
   "metadata": {},
   "outputs": [],
   "source": [
    "# conecta a una base de datos\n",
    "\n",
    "db=conn.connect(host='localhost', user='root', passwd=password, database='blockbuster')\n",
    "\n",
    "cursor=db.cursor()"
   ]
  },
  {
   "cell_type": "code",
   "execution_count": 43,
   "id": "60e80790",
   "metadata": {},
   "outputs": [
    {
     "name": "stdout",
     "output_type": "stream",
     "text": [
      "('blockbuster',)\n",
      "('information_schema',)\n",
      "('mydb',)\n",
      "('mysql',)\n",
      "('performance_schema',)\n",
      "('publications',)\n",
      "('sys',)\n"
     ]
    }
   ],
   "source": [
    "# check\n",
    "\n",
    "cursor.execute('show databases;')\n",
    "\n",
    "for x in cursor:\n",
    "    print(x)"
   ]
  },
  {
   "cell_type": "code",
   "execution_count": 44,
   "id": "c0177493",
   "metadata": {},
   "outputs": [],
   "source": [
    "# Crear tabla 'actor'\n",
    "\n",
    "\n",
    "cursor.execute('drop table if exists actor;')\n",
    "\n",
    "\n",
    "\n",
    "tabla='''\n",
    "\n",
    "        create table actor (\n",
    "            \n",
    "            actor_id int primary key,\n",
    "            first_name varchar(50),\n",
    "            last_name  varchar(50)\n",
    "        );\n",
    "\n",
    "'''\n",
    "\n",
    "\n",
    "cursor.execute(tabla)\n",
    "\n",
    "\n"
   ]
  },
  {
   "cell_type": "code",
   "execution_count": 45,
   "id": "d9ec5945",
   "metadata": {},
   "outputs": [],
   "source": [
    "# Crear tabla 'language'\n",
    "\n",
    "cursor.execute('drop table if exists language')\n",
    "\n",
    "tabla= '''\n",
    "            create table language (\n",
    "            \n",
    "            language_id int primary key,\n",
    "            name varchar(50)         \n",
    "            \n",
    "            );\n",
    "'''\n",
    "cursor.execute(tabla)\n"
   ]
  },
  {
   "cell_type": "code",
   "execution_count": 46,
   "id": "ce9eddf7",
   "metadata": {},
   "outputs": [],
   "source": [
    "# Crear tabla 'category'\n",
    "\n",
    "cursor.execute('drop table if exists category')\n",
    "\n",
    "tabla = '''\n",
    "            create table category(\n",
    "            category_id int primary key,\n",
    "            name varchar(50)\n",
    "            \n",
    "            );\n",
    "'''\n",
    "\n",
    "cursor.execute(tabla)"
   ]
  },
  {
   "cell_type": "code",
   "execution_count": 47,
   "id": "19eca8c1",
   "metadata": {},
   "outputs": [],
   "source": [
    "# Crear tabla 'film'\n",
    "\n",
    "cursor.execute('drop table if exists film')\n",
    "\n",
    "tabla = '''\n",
    "            create table film(\n",
    "            \n",
    "            film_id int primary key,\n",
    "            title varchar(50),\n",
    "            description varchar(250),\n",
    "            release_year int,\n",
    "            rental_duration int,\n",
    "            rental_rate float,\n",
    "            length int,\n",
    "            replacement_cost float,\n",
    "            special_features varchar(250)\n",
    "            \n",
    "            );\n",
    "'''\n",
    "\n",
    "cursor.execute(tabla)"
   ]
  },
  {
   "cell_type": "code",
   "execution_count": 48,
   "id": "965514d7",
   "metadata": {},
   "outputs": [],
   "source": [
    "# Crear tabla 'inventory'\n",
    "\n",
    "cursor.execute('drop table if exists inventory')\n",
    "\n",
    "tabla = '''\n",
    "            create table inventory(\n",
    "            \n",
    "            inventory_id int primary key\n",
    "            \n",
    "            );\n",
    "'''\n",
    "\n",
    "cursor.execute(tabla)"
   ]
  },
  {
   "cell_type": "code",
   "execution_count": 49,
   "id": "71c7e641",
   "metadata": {},
   "outputs": [],
   "source": [
    "# Crear tabla 'rental'\n",
    "\n",
    "cursor.execute('drop table if exists rental')\n",
    "\n",
    "tabla = '''\n",
    "            create table rental(\n",
    "            \n",
    "            rental_id int primary key,\n",
    "            rental_date datetime,\n",
    "            return_date datetime\n",
    "            \n",
    "            );\n",
    "'''\n",
    "\n",
    "cursor.execute(tabla)"
   ]
  },
  {
   "cell_type": "code",
   "execution_count": 53,
   "id": "3d002c15",
   "metadata": {},
   "outputs": [
    {
     "ename": "ProgrammingError",
     "evalue": "1072 (42000): Key column 'category_id' doesn't exist in table",
     "output_type": "error",
     "traceback": [
      "\u001b[1;31m---------------------------------------------------------------------------\u001b[0m",
      "\u001b[1;31mMySQLInterfaceError\u001b[0m                       Traceback (most recent call last)",
      "File \u001b[1;32m~\\.conda\\envs\\clase\\lib\\site-packages\\mysql\\connector\\connection_cext.py:523\u001b[0m, in \u001b[0;36mCMySQLConnection.cmd_query\u001b[1;34m(self, query, raw, buffered, raw_as_string)\u001b[0m\n\u001b[0;32m    522\u001b[0m         query \u001b[38;5;241m=\u001b[39m query\u001b[38;5;241m.\u001b[39mencode(\u001b[38;5;124m'\u001b[39m\u001b[38;5;124mutf-8\u001b[39m\u001b[38;5;124m'\u001b[39m)\n\u001b[1;32m--> 523\u001b[0m     \u001b[38;5;28;43mself\u001b[39;49m\u001b[38;5;241;43m.\u001b[39;49m\u001b[43m_cmysql\u001b[49m\u001b[38;5;241;43m.\u001b[39;49m\u001b[43mquery\u001b[49m\u001b[43m(\u001b[49m\u001b[43mquery\u001b[49m\u001b[43m,\u001b[49m\n\u001b[0;32m    524\u001b[0m \u001b[43m                       \u001b[49m\u001b[43mraw\u001b[49m\u001b[38;5;241;43m=\u001b[39;49m\u001b[43mraw\u001b[49m\u001b[43m,\u001b[49m\u001b[43m \u001b[49m\u001b[43mbuffered\u001b[49m\u001b[38;5;241;43m=\u001b[39;49m\u001b[43mbuffered\u001b[49m\u001b[43m,\u001b[49m\n\u001b[0;32m    525\u001b[0m \u001b[43m                       \u001b[49m\u001b[43mraw_as_string\u001b[49m\u001b[38;5;241;43m=\u001b[39;49m\u001b[43mraw_as_string\u001b[49m\u001b[43m,\u001b[49m\n\u001b[0;32m    526\u001b[0m \u001b[43m                       \u001b[49m\u001b[43mquery_attrs\u001b[49m\u001b[38;5;241;43m=\u001b[39;49m\u001b[38;5;28;43mself\u001b[39;49m\u001b[38;5;241;43m.\u001b[39;49m\u001b[43m_query_attrs\u001b[49m\u001b[43m)\u001b[49m\n\u001b[0;32m    527\u001b[0m \u001b[38;5;28;01mexcept\u001b[39;00m MySQLInterfaceError \u001b[38;5;28;01mas\u001b[39;00m exc:\n",
      "\u001b[1;31mMySQLInterfaceError\u001b[0m: Key column 'category_id' doesn't exist in table",
      "\nDuring handling of the above exception, another exception occurred:\n",
      "\u001b[1;31mProgrammingError\u001b[0m                          Traceback (most recent call last)",
      "Input \u001b[1;32mIn [53]\u001b[0m, in \u001b[0;36m<cell line: 13>\u001b[1;34m()\u001b[0m\n\u001b[0;32m      1\u001b[0m \u001b[38;5;66;03m# Crear relaciones entre tabla 'category' y 'language'\u001b[39;00m\n\u001b[0;32m      5\u001b[0m tabla \u001b[38;5;241m=\u001b[39m \u001b[38;5;124m'''\u001b[39m\n\u001b[0;32m      6\u001b[0m \u001b[38;5;124m        alter table film\u001b[39m\n\u001b[0;32m      7\u001b[0m \u001b[38;5;124m        add foreign key(category_id)\u001b[39m\n\u001b[1;32m   (...)\u001b[0m\n\u001b[0;32m     10\u001b[0m \n\u001b[0;32m     11\u001b[0m \u001b[38;5;124m'''\u001b[39m\n\u001b[1;32m---> 13\u001b[0m \u001b[43mcursor\u001b[49m\u001b[38;5;241;43m.\u001b[39;49m\u001b[43mexecute\u001b[49m\u001b[43m(\u001b[49m\u001b[43mtabla\u001b[49m\u001b[43m)\u001b[49m\n",
      "File \u001b[1;32m~\\.conda\\envs\\clase\\lib\\site-packages\\mysql\\connector\\cursor_cext.py:269\u001b[0m, in \u001b[0;36mCMySQLCursor.execute\u001b[1;34m(self, operation, params, multi)\u001b[0m\n\u001b[0;32m    265\u001b[0m             \u001b[38;5;28;01mraise\u001b[39;00m errors\u001b[38;5;241m.\u001b[39mProgrammingError(\n\u001b[0;32m    266\u001b[0m                 \u001b[38;5;124m\"\u001b[39m\u001b[38;5;124mNot all parameters were used in the SQL statement\u001b[39m\u001b[38;5;124m\"\u001b[39m)\n\u001b[0;32m    268\u001b[0m \u001b[38;5;28;01mtry\u001b[39;00m:\n\u001b[1;32m--> 269\u001b[0m     result \u001b[38;5;241m=\u001b[39m \u001b[38;5;28;43mself\u001b[39;49m\u001b[38;5;241;43m.\u001b[39;49m\u001b[43m_cnx\u001b[49m\u001b[38;5;241;43m.\u001b[39;49m\u001b[43mcmd_query\u001b[49m\u001b[43m(\u001b[49m\u001b[43mstmt\u001b[49m\u001b[43m,\u001b[49m\u001b[43m \u001b[49m\u001b[43mraw\u001b[49m\u001b[38;5;241;43m=\u001b[39;49m\u001b[38;5;28;43mself\u001b[39;49m\u001b[38;5;241;43m.\u001b[39;49m\u001b[43m_raw\u001b[49m\u001b[43m,\u001b[49m\n\u001b[0;32m    270\u001b[0m \u001b[43m                                 \u001b[49m\u001b[43mbuffered\u001b[49m\u001b[38;5;241;43m=\u001b[39;49m\u001b[38;5;28;43mself\u001b[39;49m\u001b[38;5;241;43m.\u001b[39;49m\u001b[43m_buffered\u001b[49m\u001b[43m,\u001b[49m\n\u001b[0;32m    271\u001b[0m \u001b[43m                                 \u001b[49m\u001b[43mraw_as_string\u001b[49m\u001b[38;5;241;43m=\u001b[39;49m\u001b[38;5;28;43mself\u001b[39;49m\u001b[38;5;241;43m.\u001b[39;49m\u001b[43m_raw_as_string\u001b[49m\u001b[43m)\u001b[49m\n\u001b[0;32m    272\u001b[0m \u001b[38;5;28;01mexcept\u001b[39;00m MySQLInterfaceError \u001b[38;5;28;01mas\u001b[39;00m exc:\n\u001b[0;32m    273\u001b[0m     \u001b[38;5;28;01mraise\u001b[39;00m errors\u001b[38;5;241m.\u001b[39mget_mysql_exception(msg\u001b[38;5;241m=\u001b[39mexc\u001b[38;5;241m.\u001b[39mmsg, errno\u001b[38;5;241m=\u001b[39mexc\u001b[38;5;241m.\u001b[39merrno,\n\u001b[0;32m    274\u001b[0m                                      sqlstate\u001b[38;5;241m=\u001b[39mexc\u001b[38;5;241m.\u001b[39msqlstate)\n",
      "File \u001b[1;32m~\\.conda\\envs\\clase\\lib\\site-packages\\mysql\\connector\\connection_cext.py:528\u001b[0m, in \u001b[0;36mCMySQLConnection.cmd_query\u001b[1;34m(self, query, raw, buffered, raw_as_string)\u001b[0m\n\u001b[0;32m    523\u001b[0m     \u001b[38;5;28mself\u001b[39m\u001b[38;5;241m.\u001b[39m_cmysql\u001b[38;5;241m.\u001b[39mquery(query,\n\u001b[0;32m    524\u001b[0m                        raw\u001b[38;5;241m=\u001b[39mraw, buffered\u001b[38;5;241m=\u001b[39mbuffered,\n\u001b[0;32m    525\u001b[0m                        raw_as_string\u001b[38;5;241m=\u001b[39mraw_as_string,\n\u001b[0;32m    526\u001b[0m                        query_attrs\u001b[38;5;241m=\u001b[39m\u001b[38;5;28mself\u001b[39m\u001b[38;5;241m.\u001b[39m_query_attrs)\n\u001b[0;32m    527\u001b[0m \u001b[38;5;28;01mexcept\u001b[39;00m MySQLInterfaceError \u001b[38;5;28;01mas\u001b[39;00m exc:\n\u001b[1;32m--> 528\u001b[0m     \u001b[38;5;28;01mraise\u001b[39;00m errors\u001b[38;5;241m.\u001b[39mget_mysql_exception(exc\u001b[38;5;241m.\u001b[39merrno, msg\u001b[38;5;241m=\u001b[39mexc\u001b[38;5;241m.\u001b[39mmsg,\n\u001b[0;32m    529\u001b[0m                                      sqlstate\u001b[38;5;241m=\u001b[39mexc\u001b[38;5;241m.\u001b[39msqlstate)\n\u001b[0;32m    530\u001b[0m \u001b[38;5;28;01mexcept\u001b[39;00m \u001b[38;5;167;01mAttributeError\u001b[39;00m:\n\u001b[0;32m    531\u001b[0m     \u001b[38;5;28;01mif\u001b[39;00m \u001b[38;5;28mself\u001b[39m\u001b[38;5;241m.\u001b[39m_unix_socket:\n",
      "\u001b[1;31mProgrammingError\u001b[0m: 1072 (42000): Key column 'category_id' doesn't exist in table"
     ]
    }
   ],
   "source": [
    "# Crear relaciones entre tabla 'category' y 'language'\n",
    "\n",
    "\n",
    "\n",
    "tabla = '''\n",
    "        alter table film\n",
    "        add foreign key(category_id)\n",
    "        references category(category_id)\n",
    "        on delete set null; \n",
    "\n",
    "'''\n",
    "\n",
    "# cursor.execute(tabla)\n",
    "\n"
   ]
  },
  {
   "cell_type": "code",
   "execution_count": null,
   "id": "21951e73",
   "metadata": {},
   "outputs": [],
   "source": [
    "df_rental.info()"
   ]
  },
  {
   "cell_type": "code",
   "execution_count": null,
   "id": "48f0a02a",
   "metadata": {},
   "outputs": [],
   "source": []
  }
 ],
 "metadata": {
  "kernelspec": {
   "display_name": "clase",
   "language": "python",
   "name": "clase"
  },
  "language_info": {
   "codemirror_mode": {
    "name": "ipython",
    "version": 3
   },
   "file_extension": ".py",
   "mimetype": "text/x-python",
   "name": "python",
   "nbconvert_exporter": "python",
   "pygments_lexer": "ipython3",
   "version": "3.9.7"
  }
 },
 "nbformat": 4,
 "nbformat_minor": 5
}
