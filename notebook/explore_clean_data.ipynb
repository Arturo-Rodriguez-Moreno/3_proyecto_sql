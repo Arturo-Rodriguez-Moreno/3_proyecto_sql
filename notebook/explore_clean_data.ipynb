{
 "cells": [
  {
   "cell_type": "code",
   "execution_count": 48,
   "id": "4176ca9d",
   "metadata": {},
   "outputs": [
    {
     "name": "stdout",
     "output_type": "stream",
     "text": [
      "Collecting mysql-connector-python\n",
      "  Downloading mysql_connector_python-8.0.28-cp39-cp39-win_amd64.whl (7.2 MB)\n",
      "Collecting protobuf>=3.0.0\n",
      "  Downloading protobuf-3.20.0-cp39-cp39-win_amd64.whl (904 kB)\n",
      "Installing collected packages: protobuf, mysql-connector-python\n",
      "Successfully installed mysql-connector-python-8.0.28 protobuf-3.20.0\n"
     ]
    }
   ],
   "source": [
    "!pip install mysql-connector-python"
   ]
  },
  {
   "cell_type": "code",
   "execution_count": 1,
   "id": "1424d323",
   "metadata": {},
   "outputs": [],
   "source": [
    "import pandas as pd\n",
    "import numpy as np\n",
    "\n",
    "pd.set_option('display.max_columns', None)  # es para enseñar todas las columnas del df\n",
    "pd.set_option('display.max_rows', None)     # es para enseñar todas las filas del df\n",
    "\n",
    "\n",
    "import warnings\n",
    "warnings.simplefilter('ignore')   # es para quitar warnings"
   ]
  },
  {
   "cell_type": "code",
   "execution_count": 49,
   "id": "94ef00a5",
   "metadata": {},
   "outputs": [],
   "source": [
    "import mysql.connector as conn"
   ]
  },
  {
   "cell_type": "markdown",
   "id": "33d1d509",
   "metadata": {},
   "source": [
    "## ACTOR"
   ]
  },
  {
   "cell_type": "code",
   "execution_count": 2,
   "id": "9789446a",
   "metadata": {},
   "outputs": [],
   "source": [
    "df_actor=pd.read_csv('../data/actor.csv')\n"
   ]
  },
  {
   "cell_type": "code",
   "execution_count": 3,
   "id": "9a5cef86",
   "metadata": {},
   "outputs": [],
   "source": [
    "# Elimino la columna 'last_update'\n",
    "\n",
    "df_actor = df_actor.drop(['last_update'], axis=1)"
   ]
  },
  {
   "cell_type": "code",
   "execution_count": 4,
   "id": "30aafd16",
   "metadata": {
    "scrolled": true
   },
   "outputs": [
    {
     "name": "stdout",
     "output_type": "stream",
     "text": [
      "<class 'pandas.core.frame.DataFrame'>\n",
      "RangeIndex: 200 entries, 0 to 199\n",
      "Data columns (total 3 columns):\n",
      " #   Column      Non-Null Count  Dtype \n",
      "---  ------      --------------  ----- \n",
      " 0   actor_id    200 non-null    int64 \n",
      " 1   first_name  200 non-null    object\n",
      " 2   last_name   200 non-null    object\n",
      "dtypes: int64(1), object(2)\n",
      "memory usage: 26.2 KB\n"
     ]
    }
   ],
   "source": [
    "df_actor.info(memory_usage='deep')"
   ]
  },
  {
   "cell_type": "code",
   "execution_count": 5,
   "id": "b20a536e",
   "metadata": {},
   "outputs": [
    {
     "data": {
      "text/plain": [
       "True"
      ]
     },
     "execution_count": 5,
     "metadata": {},
     "output_type": "execute_result"
    }
   ],
   "source": [
    "len(df_actor.drop_duplicates())==len(df_actor)  # no hay duplicados"
   ]
  },
  {
   "cell_type": "markdown",
   "id": "40400b08",
   "metadata": {},
   "source": [
    "## CATEGORY"
   ]
  },
  {
   "cell_type": "code",
   "execution_count": 6,
   "id": "73db8694",
   "metadata": {},
   "outputs": [],
   "source": [
    "df_category=pd.read_csv('../data/category.csv')"
   ]
  },
  {
   "cell_type": "code",
   "execution_count": 7,
   "id": "2fbb5577",
   "metadata": {},
   "outputs": [],
   "source": [
    "# Elimino la columna 'last_update'\n",
    "\n",
    "df_category = df_category.drop(['last_update'], axis=1)"
   ]
  },
  {
   "cell_type": "code",
   "execution_count": 8,
   "id": "54f637e2",
   "metadata": {},
   "outputs": [],
   "source": [
    "# Crear una fila nueva con una nueva categoría.\n",
    "\n",
    "df2 = pd.DataFrame({'category_id': [99],\n",
    "                    'name' : ['Unknown']})\n",
    "\n",
    "df_category = pd.concat([df_category, df2], ignore_index = True, axis = 0)"
   ]
  },
  {
   "cell_type": "markdown",
   "id": "53d1203c",
   "metadata": {},
   "source": [
    "## FILM"
   ]
  },
  {
   "cell_type": "code",
   "execution_count": 9,
   "id": "ea594fd2",
   "metadata": {},
   "outputs": [],
   "source": [
    "df_film=pd.read_csv('../data/film.csv')"
   ]
  },
  {
   "cell_type": "markdown",
   "id": "de95559c",
   "metadata": {},
   "source": [
    "## INVENTORY"
   ]
  },
  {
   "cell_type": "code",
   "execution_count": 10,
   "id": "2d8265a6",
   "metadata": {},
   "outputs": [],
   "source": [
    "df_inventory=pd.read_csv('../data/inventory.csv')"
   ]
  },
  {
   "cell_type": "code",
   "execution_count": 11,
   "id": "6b79dfc2",
   "metadata": {},
   "outputs": [],
   "source": [
    "# Elimino la columna 'last_update'\n",
    "\n",
    "df_inventory = df_inventory.drop(['last_update'], axis=1)"
   ]
  },
  {
   "cell_type": "markdown",
   "id": "6680c773",
   "metadata": {},
   "source": [
    "## LANGUAGE"
   ]
  },
  {
   "cell_type": "code",
   "execution_count": 12,
   "id": "7243d873",
   "metadata": {},
   "outputs": [],
   "source": [
    "df_language=pd.read_csv('../data/language.csv')\n"
   ]
  },
  {
   "cell_type": "code",
   "execution_count": 13,
   "id": "c216afd6",
   "metadata": {},
   "outputs": [],
   "source": [
    "# Elimino la columna 'last_update'\n",
    "\n",
    "df_language = df_language.drop(['last_update'], axis=1)"
   ]
  },
  {
   "cell_type": "markdown",
   "id": "0142a5ed",
   "metadata": {},
   "source": [
    "## RENTAL"
   ]
  },
  {
   "cell_type": "code",
   "execution_count": 14,
   "id": "ed55a4d5",
   "metadata": {
    "scrolled": true
   },
   "outputs": [],
   "source": [
    "df_rental=pd.read_csv('../data/rental.csv')"
   ]
  },
  {
   "cell_type": "code",
   "execution_count": 15,
   "id": "c58530ca",
   "metadata": {},
   "outputs": [],
   "source": [
    "# Cambio el 'return_date' a formato 'date'\n",
    "\n",
    "df_rental.rental_date = pd.to_datetime(df_rental.rental_date, format= '%Y-%m-%d')\n",
    "df_rental.return_date = pd.to_datetime(df_rental.return_date, format= '%Y-%m-%d')"
   ]
  },
  {
   "cell_type": "code",
   "execution_count": 16,
   "id": "2af78bea",
   "metadata": {},
   "outputs": [],
   "source": [
    "# Elimino la columna 'last_update'\n",
    "\n",
    "df_rental = df_rental.drop(['last_update'], axis=1)"
   ]
  },
  {
   "cell_type": "markdown",
   "id": "d42fa9b2",
   "metadata": {},
   "source": [
    "### OLD_HDD - Relaciones titulo, actor y categoría"
   ]
  },
  {
   "cell_type": "code",
   "execution_count": 17,
   "id": "7d2e4354",
   "metadata": {},
   "outputs": [],
   "source": [
    "df_old_HDD=pd.read_csv('../data/old_HDD.csv')"
   ]
  },
  {
   "cell_type": "code",
   "execution_count": 18,
   "id": "36f5a1f9",
   "metadata": {
    "scrolled": true
   },
   "outputs": [
    {
     "name": "stdout",
     "output_type": "stream",
     "text": [
      "<class 'pandas.core.frame.DataFrame'>\n",
      "RangeIndex: 1000 entries, 0 to 999\n",
      "Data columns (total 5 columns):\n",
      " #   Column        Non-Null Count  Dtype \n",
      "---  ------        --------------  ----- \n",
      " 0   first_name    1000 non-null   object\n",
      " 1   last_name     1000 non-null   object\n",
      " 2   title         1000 non-null   object\n",
      " 3   release_year  1000 non-null   int64 \n",
      " 4   category_id   1000 non-null   int64 \n",
      "dtypes: int64(2), object(3)\n",
      "memory usage: 207.6 KB\n"
     ]
    }
   ],
   "source": [
    "df_old_HDD.info(memory_usage='deep')"
   ]
  },
  {
   "cell_type": "markdown",
   "id": "efdd7de3",
   "metadata": {},
   "source": [
    "# Modificar y limpiar"
   ]
  },
  {
   "cell_type": "markdown",
   "id": "c63ea4fd",
   "metadata": {},
   "source": [
    "## Modifico tabla film"
   ]
  },
  {
   "cell_type": "code",
   "execution_count": 19,
   "id": "78d6a8f6",
   "metadata": {},
   "outputs": [],
   "source": [
    "# Hago un left join en 'df_film' para obtener 'category_id', haciendo que en films y old_HDD el index sea title.\n",
    "\n",
    "\n",
    "film = df_film.set_index('title').join(df_old_HDD[[\"title\", \"category_id\"]].set_index('title'), lsuffix='', rsuffix='_dcha', how='left')\n"
   ]
  },
  {
   "cell_type": "code",
   "execution_count": 20,
   "id": "3477a5ab",
   "metadata": {},
   "outputs": [],
   "source": [
    "# Le elimino duplicado que se generan\n",
    "\n",
    "film.drop_duplicates(inplace=True)"
   ]
  },
  {
   "cell_type": "code",
   "execution_count": 21,
   "id": "37e0ef0f",
   "metadata": {},
   "outputs": [],
   "source": [
    "# Le reseteo el indice\n",
    "\n",
    "film.reset_index(inplace=True)"
   ]
  },
  {
   "cell_type": "code",
   "execution_count": 22,
   "id": "1a592b4d",
   "metadata": {},
   "outputs": [],
   "source": [
    "# Relleno en la tabla film la columna category_id con 99 \n",
    "\n",
    "film.category_id.fillna(99, inplace=True)\n",
    "\n",
    "# Modificar la columna de category_id\n",
    "\n",
    "film.category_id = film.category_id.astype(dtype='int64')"
   ]
  },
  {
   "cell_type": "code",
   "execution_count": 23,
   "id": "1b2e4e19",
   "metadata": {},
   "outputs": [],
   "source": [
    "# Elimino la columna de original_language_id\n",
    "\n",
    "film.drop('original_language_id', axis=1, inplace=True)"
   ]
  },
  {
   "cell_type": "code",
   "execution_count": 24,
   "id": "ea75b50f",
   "metadata": {},
   "outputs": [],
   "source": [
    "# Elimino la columna 'last_update'\n",
    "\n",
    "film = film.drop(['last_update'], axis=1)"
   ]
  },
  {
   "cell_type": "markdown",
   "id": "9d1a086d",
   "metadata": {},
   "source": [
    "## Creo tabla actor_film"
   ]
  },
  {
   "cell_type": "code",
   "execution_count": 25,
   "id": "f424c56c",
   "metadata": {},
   "outputs": [],
   "source": [
    "actor = df_actor.copy(deep=True)"
   ]
  },
  {
   "cell_type": "code",
   "execution_count": 26,
   "id": "1636738b",
   "metadata": {},
   "outputs": [],
   "source": [
    "# Creo una columna y concateno first name y last name\n",
    "\n",
    "actor['name'] = actor['first_name'] + ' ' + actor['last_name']"
   ]
  },
  {
   "cell_type": "code",
   "execution_count": 27,
   "id": "661fc259",
   "metadata": {},
   "outputs": [],
   "source": [
    "hdd = df_old_HDD"
   ]
  },
  {
   "cell_type": "code",
   "execution_count": 28,
   "id": "d3a7a115",
   "metadata": {},
   "outputs": [],
   "source": [
    "# Creo una columna nueva y concateno first name y last name\n",
    "\n",
    "hdd['name'] = hdd['first_name'] + ' ' + hdd['last_name']"
   ]
  },
  {
   "cell_type": "code",
   "execution_count": 29,
   "id": "66f17a0c",
   "metadata": {},
   "outputs": [],
   "source": [
    "# Creo la tabla 'actor_film' que voy a utilizar como relación many to many entre actor y film.\n",
    "\n",
    "# Primero uso hdd para hacer un join a través del indice 'title' y obtener 'film_id'\n",
    "\n",
    "actor_film = hdd.set_index('title').join(film[[\"title\", \"film_id\"]].set_index('title'), lsuffix='', rsuffix='_dcha', how='left')\n"
   ]
  },
  {
   "cell_type": "code",
   "execution_count": 30,
   "id": "6e5e5fe2",
   "metadata": {},
   "outputs": [],
   "source": [
    "# Elimino duplicados por si se generaran\n",
    "\n",
    "actor_film.drop_duplicates(inplace=True)"
   ]
  },
  {
   "cell_type": "code",
   "execution_count": 31,
   "id": "cf1ba8bc",
   "metadata": {},
   "outputs": [],
   "source": [
    "# Reseteo el indice para que la columna 'title' vuelva a ser una columna\n",
    "\n",
    "actor_film.reset_index(inplace=True)"
   ]
  },
  {
   "cell_type": "code",
   "execution_count": 32,
   "id": "1642ef27",
   "metadata": {},
   "outputs": [],
   "source": [
    "# Primero uso 'actor_film' para hacer un join a través del indice 'name' y obtener 'actor_id'\n",
    "\n",
    "actor_film = actor_film.set_index('name').join(actor[[\"name\", \"actor_id\"]].set_index('name'), lsuffix='', rsuffix='_dcha', how='left')"
   ]
  },
  {
   "cell_type": "code",
   "execution_count": 33,
   "id": "907ef14f",
   "metadata": {},
   "outputs": [],
   "source": [
    "# Elimino duplicados y reseteo el índice\n",
    "\n",
    "actor_film.drop_duplicates(inplace=True)\n",
    "actor_film.reset_index(inplace=True)"
   ]
  },
  {
   "cell_type": "code",
   "execution_count": 34,
   "id": "06cffcbb",
   "metadata": {},
   "outputs": [],
   "source": [
    "# Sobreescribo 'actor_film' solo con las columnas de 'actor_id' y 'film_id'\n",
    "\n",
    "actor_film = actor_film[['actor_id', 'film_id']]"
   ]
  },
  {
   "cell_type": "markdown",
   "id": "000180f8",
   "metadata": {},
   "source": [
    "## Compruebo que todas las tablas este perfectas para subir"
   ]
  },
  {
   "cell_type": "code",
   "execution_count": 47,
   "id": "d38542a9",
   "metadata": {},
   "outputs": [
    {
     "data": {
      "text/html": [
       "<div>\n",
       "<style scoped>\n",
       "    .dataframe tbody tr th:only-of-type {\n",
       "        vertical-align: middle;\n",
       "    }\n",
       "\n",
       "    .dataframe tbody tr th {\n",
       "        vertical-align: top;\n",
       "    }\n",
       "\n",
       "    .dataframe thead th {\n",
       "        text-align: right;\n",
       "    }\n",
       "</style>\n",
       "<table border=\"1\" class=\"dataframe\">\n",
       "  <thead>\n",
       "    <tr style=\"text-align: right;\">\n",
       "      <th></th>\n",
       "      <th>rental_id</th>\n",
       "      <th>rental_date</th>\n",
       "      <th>inventory_id</th>\n",
       "      <th>customer_id</th>\n",
       "      <th>return_date</th>\n",
       "      <th>staff_id</th>\n",
       "    </tr>\n",
       "  </thead>\n",
       "  <tbody>\n",
       "    <tr>\n",
       "      <th>0</th>\n",
       "      <td>1</td>\n",
       "      <td>2005-05-24 22:53:30</td>\n",
       "      <td>367</td>\n",
       "      <td>130</td>\n",
       "      <td>2005-05-26 22:04:30</td>\n",
       "      <td>1</td>\n",
       "    </tr>\n",
       "    <tr>\n",
       "      <th>1</th>\n",
       "      <td>2</td>\n",
       "      <td>2005-05-24 22:54:33</td>\n",
       "      <td>1525</td>\n",
       "      <td>459</td>\n",
       "      <td>2005-05-28 19:40:33</td>\n",
       "      <td>1</td>\n",
       "    </tr>\n",
       "    <tr>\n",
       "      <th>2</th>\n",
       "      <td>3</td>\n",
       "      <td>2005-05-24 23:03:39</td>\n",
       "      <td>1711</td>\n",
       "      <td>408</td>\n",
       "      <td>2005-06-01 22:12:39</td>\n",
       "      <td>1</td>\n",
       "    </tr>\n",
       "    <tr>\n",
       "      <th>3</th>\n",
       "      <td>4</td>\n",
       "      <td>2005-05-24 23:04:41</td>\n",
       "      <td>2452</td>\n",
       "      <td>333</td>\n",
       "      <td>2005-06-03 01:43:41</td>\n",
       "      <td>2</td>\n",
       "    </tr>\n",
       "    <tr>\n",
       "      <th>4</th>\n",
       "      <td>5</td>\n",
       "      <td>2005-05-24 23:05:21</td>\n",
       "      <td>2079</td>\n",
       "      <td>222</td>\n",
       "      <td>2005-06-02 04:33:21</td>\n",
       "      <td>1</td>\n",
       "    </tr>\n",
       "  </tbody>\n",
       "</table>\n",
       "</div>"
      ],
      "text/plain": [
       "   rental_id         rental_date  inventory_id  customer_id  \\\n",
       "0          1 2005-05-24 22:53:30           367          130   \n",
       "1          2 2005-05-24 22:54:33          1525          459   \n",
       "2          3 2005-05-24 23:03:39          1711          408   \n",
       "3          4 2005-05-24 23:04:41          2452          333   \n",
       "4          5 2005-05-24 23:05:21          2079          222   \n",
       "\n",
       "          return_date  staff_id  \n",
       "0 2005-05-26 22:04:30         1  \n",
       "1 2005-05-28 19:40:33         1  \n",
       "2 2005-06-01 22:12:39         1  \n",
       "3 2005-06-03 01:43:41         2  \n",
       "4 2005-06-02 04:33:21         1  "
      ]
     },
     "execution_count": 47,
     "metadata": {},
     "output_type": "execute_result"
    }
   ],
   "source": [
    "df_rental.head()"
   ]
  },
  {
   "cell_type": "code",
   "execution_count": 46,
   "id": "cedd53ba",
   "metadata": {},
   "outputs": [
    {
     "name": "stdout",
     "output_type": "stream",
     "text": [
      "<class 'pandas.core.frame.DataFrame'>\n",
      "RangeIndex: 1000 entries, 0 to 999\n",
      "Data columns (total 3 columns):\n",
      " #   Column        Non-Null Count  Dtype\n",
      "---  ------        --------------  -----\n",
      " 0   inventory_id  1000 non-null   int64\n",
      " 1   film_id       1000 non-null   int64\n",
      " 2   store_id      1000 non-null   int64\n",
      "dtypes: int64(3)\n",
      "memory usage: 23.6 KB\n"
     ]
    }
   ],
   "source": [
    "df_inventory.info()"
   ]
  },
  {
   "cell_type": "code",
   "execution_count": null,
   "id": "a18ba590",
   "metadata": {},
   "outputs": [],
   "source": []
  },
  {
   "cell_type": "code",
   "execution_count": 54,
   "id": "2a6421e9",
   "metadata": {},
   "outputs": [
    {
     "data": {
      "text/plain": [
       "'Bvmovement1$'"
      ]
     },
     "execution_count": 54,
     "metadata": {},
     "output_type": "execute_result"
    }
   ],
   "source": [
    "password = \"\".join(open('../text/mysql_pass.txt', \"r\").readlines())\n"
   ]
  },
  {
   "cell_type": "code",
   "execution_count": 57,
   "id": "86768dba",
   "metadata": {},
   "outputs": [],
   "source": [
    "# Conecta a una base de datos mysql y activa el cursor/motor\n",
    "\n",
    "password = \"\".join(open('../text/mysql_pass.txt', \"r\").readlines()) # Me traigo el password de mysql\n",
    "\n",
    "crea_db=conn.connect(host='localhost', user='root', passwd=password)\n",
    "\n",
    "cursor=crea_db.cursor()\n",
    "\n"
   ]
  },
  {
   "cell_type": "code",
   "execution_count": 58,
   "id": "37a0334e",
   "metadata": {},
   "outputs": [],
   "source": [
    "# Crear base de datos\n",
    "\n",
    "cursor.execute('drop database if exists blockbuster;')\n",
    "cursor.execute('create database blockbuster;')"
   ]
  },
  {
   "cell_type": "code",
   "execution_count": 59,
   "id": "417b03fa",
   "metadata": {},
   "outputs": [],
   "source": [
    "# conecta a una base de datos\n",
    "\n",
    "db=conn.connect(host='localhost', user='root', passwd=password, database='blockbuster')\n",
    "\n",
    "cursor=db.cursor()"
   ]
  },
  {
   "cell_type": "code",
   "execution_count": 60,
   "id": "aa9f8ad4",
   "metadata": {},
   "outputs": [
    {
     "name": "stdout",
     "output_type": "stream",
     "text": [
      "('blockbuster',)\n",
      "('information_schema',)\n",
      "('mydb',)\n",
      "('mysql',)\n",
      "('performance_schema',)\n",
      "('publications',)\n",
      "('sys',)\n"
     ]
    }
   ],
   "source": [
    "# check\n",
    "\n",
    "cursor.execute('show databases;')\n",
    "\n",
    "for x in cursor:\n",
    "    print(x)"
   ]
  },
  {
   "cell_type": "code",
   "execution_count": null,
   "id": "ee33e6d7",
   "metadata": {},
   "outputs": [],
   "source": [
    "# crea tabla\n",
    "\n",
    "\n",
    "# cursor.execute('drop table if exists zapatos;')\n",
    "\n",
    "\n",
    "\n",
    "tabla='''\n",
    "\n",
    "        create table zapatos (\n",
    "            \n",
    "            id int primary key,\n",
    "            brand varchar(50),\n",
    "            color varchar(50),\n",
    "            size varchar(50),\n",
    "            price float,\n",
    "            url varchar(10000),\n",
    "            ean varchar(50)\n",
    "        );\n",
    "\n",
    "'''\n",
    "\n",
    "\n",
    "# cursor.execute(tabla)\n",
    "\n",
    "\n"
   ]
  }
 ],
 "metadata": {
  "kernelspec": {
   "display_name": "clase",
   "language": "python",
   "name": "clase"
  },
  "language_info": {
   "codemirror_mode": {
    "name": "ipython",
    "version": 3
   },
   "file_extension": ".py",
   "mimetype": "text/x-python",
   "name": "python",
   "nbconvert_exporter": "python",
   "pygments_lexer": "ipython3",
   "version": "3.9.7"
  }
 },
 "nbformat": 4,
 "nbformat_minor": 5
}
