{
 "cells": [
  {
   "cell_type": "code",
   "execution_count": 1,
   "id": "fb4137ee",
   "metadata": {},
   "outputs": [
    {
     "name": "stdout",
     "output_type": "stream",
     "text": [
      "Requirement already satisfied: mysql-connector-python in c:\\programdata\\anaconda3\\lib\\site-packages (8.0.28)\n",
      "Requirement already satisfied: protobuf>=3.0.0 in c:\\programdata\\anaconda3\\lib\\site-packages (from mysql-connector-python) (3.20.0)\n"
     ]
    }
   ],
   "source": [
    "!pip install mysql-connector-python"
   ]
  },
  {
   "cell_type": "code",
   "execution_count": 2,
   "id": "1424d323",
   "metadata": {},
   "outputs": [],
   "source": [
    "import pandas as pd\n",
    "import numpy as np\n",
    "\n",
    "pd.set_option('display.max_columns', None)  # es para enseñar todas las columnas del df\n",
    "pd.set_option('display.max_rows', None)     # es para enseñar todas las filas del df\n",
    "\n",
    "\n",
    "import warnings\n",
    "warnings.simplefilter('ignore')   # es para quitar warnings"
   ]
  },
  {
   "cell_type": "code",
   "execution_count": 3,
   "id": "2f2bf802",
   "metadata": {},
   "outputs": [],
   "source": [
    "import mysql.connector as conn"
   ]
  },
  {
   "cell_type": "markdown",
   "id": "34e79cca",
   "metadata": {},
   "source": [
    "# Importo todos archivos, exploro y modifico"
   ]
  },
  {
   "cell_type": "markdown",
   "id": "33d1d509",
   "metadata": {},
   "source": [
    "### ACTOR"
   ]
  },
  {
   "cell_type": "code",
   "execution_count": 4,
   "id": "9789446a",
   "metadata": {},
   "outputs": [],
   "source": [
    "df_actor=pd.read_csv('../data/actor.csv')\n"
   ]
  },
  {
   "cell_type": "code",
   "execution_count": 5,
   "id": "9606c9f4",
   "metadata": {},
   "outputs": [],
   "source": [
    "# Elimino la columna 'last_update'\n",
    "\n",
    "df_actor = df_actor.drop(['last_update'], axis=1)"
   ]
  },
  {
   "cell_type": "code",
   "execution_count": 6,
   "id": "30aafd16",
   "metadata": {
    "scrolled": true
   },
   "outputs": [
    {
     "name": "stdout",
     "output_type": "stream",
     "text": [
      "<class 'pandas.core.frame.DataFrame'>\n",
      "RangeIndex: 200 entries, 0 to 199\n",
      "Data columns (total 3 columns):\n",
      " #   Column      Non-Null Count  Dtype \n",
      "---  ------      --------------  ----- \n",
      " 0   actor_id    200 non-null    int64 \n",
      " 1   first_name  200 non-null    object\n",
      " 2   last_name   200 non-null    object\n",
      "dtypes: int64(1), object(2)\n",
      "memory usage: 26.2 KB\n"
     ]
    }
   ],
   "source": [
    "df_actor.info(memory_usage='deep')"
   ]
  },
  {
   "cell_type": "code",
   "execution_count": 7,
   "id": "970b5beb",
   "metadata": {},
   "outputs": [
    {
     "data": {
      "text/plain": [
       "True"
      ]
     },
     "execution_count": 7,
     "metadata": {},
     "output_type": "execute_result"
    }
   ],
   "source": [
    "len(df_actor.drop_duplicates())==len(df_actor)  # no hay duplicados"
   ]
  },
  {
   "cell_type": "markdown",
   "id": "40400b08",
   "metadata": {},
   "source": [
    "### CATEGORY"
   ]
  },
  {
   "cell_type": "code",
   "execution_count": 8,
   "id": "73db8694",
   "metadata": {},
   "outputs": [],
   "source": [
    "df_category=pd.read_csv('../data/category.csv')"
   ]
  },
  {
   "cell_type": "code",
   "execution_count": 9,
   "id": "2fbb5577",
   "metadata": {},
   "outputs": [],
   "source": [
    "# Elimino la columna 'last_update'\n",
    "\n",
    "df_category = df_category.drop(['last_update'], axis=1)"
   ]
  },
  {
   "cell_type": "code",
   "execution_count": 10,
   "id": "54f637e2",
   "metadata": {},
   "outputs": [],
   "source": [
    "# Crear una fila nueva con una nueva categoría.\n",
    "\n",
    "df2 = pd.DataFrame({'category_id': [99],\n",
    "                    'name' : ['Unknown']})\n",
    "\n",
    "df_category = pd.concat([df_category, df2], ignore_index = True, axis = 0)"
   ]
  },
  {
   "cell_type": "markdown",
   "id": "53d1203c",
   "metadata": {},
   "source": [
    "### FILM"
   ]
  },
  {
   "cell_type": "code",
   "execution_count": 11,
   "id": "ea594fd2",
   "metadata": {},
   "outputs": [],
   "source": [
    "df_film=pd.read_csv('../data/film.csv')"
   ]
  },
  {
   "cell_type": "markdown",
   "id": "de95559c",
   "metadata": {},
   "source": [
    "### INVENTORY"
   ]
  },
  {
   "cell_type": "code",
   "execution_count": 12,
   "id": "2d8265a6",
   "metadata": {},
   "outputs": [],
   "source": [
    "df_inventory=pd.read_csv('../data/inventory.csv')"
   ]
  },
  {
   "cell_type": "code",
   "execution_count": 13,
   "id": "74ddc36c",
   "metadata": {},
   "outputs": [],
   "source": [
    "# Elimino la columna 'last_update'\n",
    "\n",
    "df_inventory = df_inventory.drop(['last_update'], axis=1)"
   ]
  },
  {
   "cell_type": "markdown",
   "id": "6680c773",
   "metadata": {},
   "source": [
    "### LANGUAGE"
   ]
  },
  {
   "cell_type": "code",
   "execution_count": 14,
   "id": "7243d873",
   "metadata": {},
   "outputs": [],
   "source": [
    "df_language=pd.read_csv('../data/language.csv')\n"
   ]
  },
  {
   "cell_type": "code",
   "execution_count": 15,
   "id": "6a1e5492",
   "metadata": {},
   "outputs": [],
   "source": [
    "# Elimino la columna 'last_update'\n",
    "\n",
    "df_language = df_language.drop(['last_update'], axis=1)"
   ]
  },
  {
   "cell_type": "markdown",
   "id": "0142a5ed",
   "metadata": {},
   "source": [
    "### RENTAL"
   ]
  },
  {
   "cell_type": "code",
   "execution_count": 16,
   "id": "ed55a4d5",
   "metadata": {
    "scrolled": true
   },
   "outputs": [],
   "source": [
    "df_rental=pd.read_csv('../data/rental.csv')"
   ]
  },
  {
   "cell_type": "code",
   "execution_count": 17,
   "id": "88909e27",
   "metadata": {},
   "outputs": [],
   "source": [
    "# Cambio el 'return_date' a formato 'date'\n",
    "\n",
    "df_rental.rental_date = pd.to_datetime(df_rental.rental_date, format= '%Y-%m-%d')\n",
    "df_rental.return_date = pd.to_datetime(df_rental.return_date, format= '%Y-%m-%d')"
   ]
  },
  {
   "cell_type": "code",
   "execution_count": 18,
   "id": "4e565648",
   "metadata": {},
   "outputs": [],
   "source": [
    "# Elimino la columna 'last_update'\n",
    "\n",
    "df_rental = df_rental.drop(['last_update'], axis=1)"
   ]
  },
  {
   "cell_type": "markdown",
   "id": "d42fa9b2",
   "metadata": {},
   "source": [
    "### OLD_HDD - Relaciones titulo, actor y categoría"
   ]
  },
  {
   "cell_type": "code",
   "execution_count": 19,
   "id": "66596f35",
   "metadata": {},
   "outputs": [],
   "source": [
    "df_old_HDD=pd.read_csv('../data/old_HDD.csv')"
   ]
  },
  {
   "cell_type": "code",
   "execution_count": 20,
   "id": "36f5a1f9",
   "metadata": {
    "scrolled": true
   },
   "outputs": [
    {
     "name": "stdout",
     "output_type": "stream",
     "text": [
      "<class 'pandas.core.frame.DataFrame'>\n",
      "RangeIndex: 1000 entries, 0 to 999\n",
      "Data columns (total 5 columns):\n",
      " #   Column        Non-Null Count  Dtype \n",
      "---  ------        --------------  ----- \n",
      " 0   first_name    1000 non-null   object\n",
      " 1   last_name     1000 non-null   object\n",
      " 2   title         1000 non-null   object\n",
      " 3   release_year  1000 non-null   int64 \n",
      " 4   category_id   1000 non-null   int64 \n",
      "dtypes: int64(2), object(3)\n",
      "memory usage: 207.6 KB\n"
     ]
    }
   ],
   "source": [
    "df_old_HDD.info(memory_usage='deep')"
   ]
  },
  {
   "cell_type": "markdown",
   "id": "efdd7de3",
   "metadata": {},
   "source": [
    "# Modificar y limpiar"
   ]
  },
  {
   "cell_type": "markdown",
   "id": "c63ea4fd",
   "metadata": {},
   "source": [
    "## Modifico tabla film"
   ]
  },
  {
   "cell_type": "code",
   "execution_count": 21,
   "id": "78d6a8f6",
   "metadata": {},
   "outputs": [],
   "source": [
    "# Hago un left join en 'df_film' para obtener 'category_id', haciendo que en films y old_HDD el index sea title.\n",
    "\n",
    "\n",
    "film = df_film.set_index('title').join(df_old_HDD[[\"title\", \"category_id\"]].set_index('title'), lsuffix='', rsuffix='_dcha', how='left')\n"
   ]
  },
  {
   "cell_type": "code",
   "execution_count": 22,
   "id": "3477a5ab",
   "metadata": {},
   "outputs": [],
   "source": [
    "# Le elimino duplicado que se generan\n",
    "\n",
    "film.drop_duplicates(inplace=True)"
   ]
  },
  {
   "cell_type": "code",
   "execution_count": 23,
   "id": "37e0ef0f",
   "metadata": {},
   "outputs": [],
   "source": [
    "# Le reseteo el indice\n",
    "\n",
    "film.reset_index(inplace=True)"
   ]
  },
  {
   "cell_type": "code",
   "execution_count": 24,
   "id": "1a592b4d",
   "metadata": {},
   "outputs": [],
   "source": [
    "# Relleno en la tabla film la columna category_id con 99 \n",
    "\n",
    "film.category_id.fillna(99, inplace=True)\n",
    "\n",
    "# Modificar la columna de category_id\n",
    "\n",
    "film.category_id = film.category_id.astype(dtype='int64')"
   ]
  },
  {
   "cell_type": "code",
   "execution_count": 25,
   "id": "1b2e4e19",
   "metadata": {},
   "outputs": [],
   "source": [
    "# Elimino la columna de original_language_id\n",
    "\n",
    "film.drop('original_language_id', axis=1, inplace=True)"
   ]
  },
  {
   "cell_type": "code",
   "execution_count": 26,
   "id": "25736c72",
   "metadata": {},
   "outputs": [],
   "source": [
    "# Elimino la columna 'last_update'\n",
    "\n",
    "film = film.drop(['last_update'], axis=1)"
   ]
  },
  {
   "cell_type": "markdown",
   "id": "9d1a086d",
   "metadata": {},
   "source": [
    "## Creo tabla actor_film"
   ]
  },
  {
   "cell_type": "code",
   "execution_count": 27,
   "id": "f424c56c",
   "metadata": {},
   "outputs": [],
   "source": [
    "actor = df_actor.copy(deep=True)"
   ]
  },
  {
   "cell_type": "code",
   "execution_count": 28,
   "id": "1636738b",
   "metadata": {},
   "outputs": [],
   "source": [
    "# Creo una columna y concateno first name y last name\n",
    "\n",
    "actor['name'] = actor['first_name'] + ' ' + actor['last_name']"
   ]
  },
  {
   "cell_type": "code",
   "execution_count": 29,
   "id": "661fc259",
   "metadata": {},
   "outputs": [],
   "source": [
    "hdd = df_old_HDD"
   ]
  },
  {
   "cell_type": "code",
   "execution_count": 30,
   "id": "d3a7a115",
   "metadata": {},
   "outputs": [],
   "source": [
    "# Creo una columna nueva y concateno first name y last name\n",
    "\n",
    "hdd['name'] = hdd['first_name'] + ' ' + hdd['last_name']"
   ]
  },
  {
   "cell_type": "code",
   "execution_count": 31,
   "id": "66f17a0c",
   "metadata": {},
   "outputs": [],
   "source": [
    "# Creo la tabla 'actor_film' que voy a utilizar como relación many to many entre actor y film.\n",
    "\n",
    "# Primero uso hdd para hacer un join a través del indice 'title' y obtener 'film_id'\n",
    "\n",
    "actor_film = hdd.set_index('title').join(film[[\"title\", \"film_id\"]].set_index('title'), lsuffix='', rsuffix='_dcha', how='left')\n"
   ]
  },
  {
   "cell_type": "code",
   "execution_count": 32,
   "id": "6e5e5fe2",
   "metadata": {},
   "outputs": [],
   "source": [
    "# Elimino duplicados por si se generaran\n",
    "\n",
    "actor_film.drop_duplicates(inplace=True)"
   ]
  },
  {
   "cell_type": "code",
   "execution_count": 33,
   "id": "cf1ba8bc",
   "metadata": {},
   "outputs": [],
   "source": [
    "# Reseteo el indice para que la columna 'title' vuelva a ser una columna\n",
    "\n",
    "actor_film.reset_index(inplace=True)"
   ]
  },
  {
   "cell_type": "code",
   "execution_count": 34,
   "id": "1642ef27",
   "metadata": {},
   "outputs": [],
   "source": [
    "# Primero uso 'actor_film' para hacer un join a través del indice 'name' y obtener 'actor_id'\n",
    "\n",
    "actor_film = actor_film.set_index('name').join(actor[[\"name\", \"actor_id\"]].set_index('name'), lsuffix='', rsuffix='_dcha', how='left')"
   ]
  },
  {
   "cell_type": "code",
   "execution_count": 35,
   "id": "907ef14f",
   "metadata": {},
   "outputs": [],
   "source": [
    "# Elimino duplicados y reseteo el índice\n",
    "\n",
    "actor_film.drop_duplicates(inplace=True)\n",
    "actor_film.reset_index(inplace=True)"
   ]
  },
  {
   "cell_type": "code",
   "execution_count": 36,
   "id": "06cffcbb",
   "metadata": {},
   "outputs": [],
   "source": [
    "# Sobreescribo 'actor_film' solo con las columnas de 'actor_id' y 'film_id'\n",
    "\n",
    "actor_film = actor_film[['actor_id', 'film_id']]"
   ]
  },
  {
   "cell_type": "markdown",
   "id": "8060f11d",
   "metadata": {},
   "source": [
    "## Creo e importo tablas nuevas"
   ]
  },
  {
   "cell_type": "code",
   "execution_count": 37,
   "id": "2e7c7cac",
   "metadata": {},
   "outputs": [],
   "source": [
    "# Creo 'df_store' dataframe\n",
    "\n",
    "store = {'store_id': [1, 2], 'name': ['Blockbuster MIA','Blockbuster Orlando' ], 'city': ['Miami', 'Orlando']}  \n",
    "  \n",
    "df_store = pd.DataFrame(store)"
   ]
  },
  {
   "cell_type": "code",
   "execution_count": 38,
   "id": "f9bc930a",
   "metadata": {},
   "outputs": [],
   "source": [
    "# Creo 'df_staff' dataframe\n",
    "\n",
    "staff = {'staff_id': [1, 2], 'firstname': ['Barack','Donald' ], 'lastname': ['Obama', 'Trump'], 'salary': [35000, 35000]}  \n",
    "  \n",
    "df_staff = pd.DataFrame(staff)  \n"
   ]
  },
  {
   "cell_type": "code",
   "execution_count": 39,
   "id": "5c2c816f",
   "metadata": {},
   "outputs": [],
   "source": [
    "# Importo un random csv de 'customers' y me creo tabla 'id_customer' \n",
    "\n",
    "df_customer=pd.read_csv('../data/customers.csv')"
   ]
  },
  {
   "cell_type": "markdown",
   "id": "4c085ad8",
   "metadata": {},
   "source": [
    "## Exporto todas los dataframe a carpeta new_data"
   ]
  },
  {
   "cell_type": "code",
   "execution_count": 65,
   "id": "298d5c97",
   "metadata": {},
   "outputs": [],
   "source": [
    "df_category.to_csv('../data/new_data/category.csv', sep= \",\", index=False)\n",
    "\n",
    "df_language.to_csv('../data/new_data/language.csv', sep= \",\", index=False)\n",
    "\n",
    "df_actor.to_csv('../data/new_data/actor.csv', sep= \",\", index=False)\n",
    "\n",
    "actor_film.to_csv('../data/new_data/actor_film.csv', sep= \",\", index=False)\n",
    "\n",
    "film.to_csv('../data/new_data/film.csv', sep= \",\", index=False)\n",
    "\n",
    "df_inventory.to_csv('../data/new_data/inventory.csv', sep= \",\", index=False)\n",
    "\n",
    "df_rental.to_csv('../data/new_data/rental.csv', sep= \",\", index=False)\n",
    "\n",
    "df_store.to_csv('../data/new_data/store.csv', sep= \",\", index=False)\n",
    "\n",
    "df_customer.to_csv('../data/new_data/customer.csv', sep= \",\", index=False)\n",
    "\n",
    "\n",
    "df_staff.to_csv('../data/new_data/staff.csv', sep= \",\", index=False)"
   ]
  },
  {
   "cell_type": "markdown",
   "id": "786a3746",
   "metadata": {},
   "source": [
    "# Crear base de datos en mySQL"
   ]
  },
  {
   "cell_type": "markdown",
   "id": "1fc1bd86",
   "metadata": {},
   "source": [
    "## Creo conexion y base de datos"
   ]
  },
  {
   "cell_type": "code",
   "execution_count": 40,
   "id": "05b1d068",
   "metadata": {},
   "outputs": [
    {
     "data": {
      "text/html": [
       "<div>\n",
       "<style scoped>\n",
       "    .dataframe tbody tr th:only-of-type {\n",
       "        vertical-align: middle;\n",
       "    }\n",
       "\n",
       "    .dataframe tbody tr th {\n",
       "        vertical-align: top;\n",
       "    }\n",
       "\n",
       "    .dataframe thead th {\n",
       "        text-align: right;\n",
       "    }\n",
       "</style>\n",
       "<table border=\"1\" class=\"dataframe\">\n",
       "  <thead>\n",
       "    <tr style=\"text-align: right;\">\n",
       "      <th></th>\n",
       "      <th>rental_id</th>\n",
       "      <th>rental_date</th>\n",
       "      <th>inventory_id</th>\n",
       "      <th>customer_id</th>\n",
       "      <th>return_date</th>\n",
       "      <th>staff_id</th>\n",
       "    </tr>\n",
       "  </thead>\n",
       "  <tbody>\n",
       "    <tr>\n",
       "      <th>0</th>\n",
       "      <td>1</td>\n",
       "      <td>2005-05-24 22:53:30</td>\n",
       "      <td>367</td>\n",
       "      <td>130</td>\n",
       "      <td>2005-05-26 22:04:30</td>\n",
       "      <td>1</td>\n",
       "    </tr>\n",
       "    <tr>\n",
       "      <th>1</th>\n",
       "      <td>2</td>\n",
       "      <td>2005-05-24 22:54:33</td>\n",
       "      <td>1525</td>\n",
       "      <td>459</td>\n",
       "      <td>2005-05-28 19:40:33</td>\n",
       "      <td>1</td>\n",
       "    </tr>\n",
       "    <tr>\n",
       "      <th>2</th>\n",
       "      <td>3</td>\n",
       "      <td>2005-05-24 23:03:39</td>\n",
       "      <td>1711</td>\n",
       "      <td>408</td>\n",
       "      <td>2005-06-01 22:12:39</td>\n",
       "      <td>1</td>\n",
       "    </tr>\n",
       "    <tr>\n",
       "      <th>3</th>\n",
       "      <td>4</td>\n",
       "      <td>2005-05-24 23:04:41</td>\n",
       "      <td>2452</td>\n",
       "      <td>333</td>\n",
       "      <td>2005-06-03 01:43:41</td>\n",
       "      <td>2</td>\n",
       "    </tr>\n",
       "    <tr>\n",
       "      <th>4</th>\n",
       "      <td>5</td>\n",
       "      <td>2005-05-24 23:05:21</td>\n",
       "      <td>2079</td>\n",
       "      <td>222</td>\n",
       "      <td>2005-06-02 04:33:21</td>\n",
       "      <td>1</td>\n",
       "    </tr>\n",
       "  </tbody>\n",
       "</table>\n",
       "</div>"
      ],
      "text/plain": [
       "   rental_id         rental_date  inventory_id  customer_id  \\\n",
       "0          1 2005-05-24 22:53:30           367          130   \n",
       "1          2 2005-05-24 22:54:33          1525          459   \n",
       "2          3 2005-05-24 23:03:39          1711          408   \n",
       "3          4 2005-05-24 23:04:41          2452          333   \n",
       "4          5 2005-05-24 23:05:21          2079          222   \n",
       "\n",
       "          return_date  staff_id  \n",
       "0 2005-05-26 22:04:30         1  \n",
       "1 2005-05-28 19:40:33         1  \n",
       "2 2005-06-01 22:12:39         1  \n",
       "3 2005-06-03 01:43:41         2  \n",
       "4 2005-06-02 04:33:21         1  "
      ]
     },
     "execution_count": 40,
     "metadata": {},
     "output_type": "execute_result"
    }
   ],
   "source": [
    "df_rental.head()"
   ]
  },
  {
   "cell_type": "code",
   "execution_count": 41,
   "id": "6a70bab8",
   "metadata": {},
   "outputs": [
    {
     "name": "stdout",
     "output_type": "stream",
     "text": [
      "<class 'pandas.core.frame.DataFrame'>\n",
      "RangeIndex: 1000 entries, 0 to 999\n",
      "Data columns (total 3 columns):\n",
      " #   Column        Non-Null Count  Dtype\n",
      "---  ------        --------------  -----\n",
      " 0   inventory_id  1000 non-null   int64\n",
      " 1   film_id       1000 non-null   int64\n",
      " 2   store_id      1000 non-null   int64\n",
      "dtypes: int64(3)\n",
      "memory usage: 23.6 KB\n"
     ]
    }
   ],
   "source": [
    "df_inventory.info()"
   ]
  },
  {
   "cell_type": "code",
   "execution_count": 42,
   "id": "657d3e8c",
   "metadata": {},
   "outputs": [],
   "source": [
    "# Leo la contraseña de github\n",
    "\n",
    "password = \"\".join(open('../text/mysql_pass.txt', \"r\").readlines())\n"
   ]
  },
  {
   "cell_type": "code",
   "execution_count": 43,
   "id": "6e3600d1",
   "metadata": {},
   "outputs": [],
   "source": [
    "# Conecta a una base de datos mysql y activa el cursor/motor\n",
    "\n",
    "password = \"\".join(open('../text/mysql_pass.txt', \"r\").readlines()) # Me traigo el password de mysql\n",
    "\n",
    "crea_db=conn.connect(host='localhost', user='root', passwd=password)\n",
    "\n",
    "cursor=crea_db.cursor()\n",
    "\n"
   ]
  },
  {
   "cell_type": "code",
   "execution_count": 44,
   "id": "b46c03a0",
   "metadata": {},
   "outputs": [],
   "source": [
    "# Crear base de datos\n",
    "\n",
    "cursor.execute('drop database if exists blockbuster;')\n",
    "cursor.execute('create database blockbuster;')"
   ]
  },
  {
   "cell_type": "code",
   "execution_count": 45,
   "id": "ab04b9f2",
   "metadata": {},
   "outputs": [],
   "source": [
    "# conecta a una base de datos\n",
    "\n",
    "db=conn.connect(host='localhost', user='root', passwd=password, database='blockbuster')\n",
    "\n",
    "cursor=db.cursor()"
   ]
  },
  {
   "cell_type": "code",
   "execution_count": 46,
   "id": "60e80790",
   "metadata": {},
   "outputs": [
    {
     "name": "stdout",
     "output_type": "stream",
     "text": [
      "('blockbuster',)\n",
      "('information_schema',)\n",
      "('mydb',)\n",
      "('mysql',)\n",
      "('performance_schema',)\n",
      "('publications',)\n",
      "('sys',)\n"
     ]
    }
   ],
   "source": [
    "# check si me creo la base de datos\n",
    "\n",
    "cursor.execute('show databases;')\n",
    "\n",
    "for x in cursor:\n",
    "    print(x)"
   ]
  },
  {
   "cell_type": "markdown",
   "id": "efac252b",
   "metadata": {},
   "source": [
    "## Creo tablas con sus caracteristicas"
   ]
  },
  {
   "cell_type": "code",
   "execution_count": 47,
   "id": "c0177493",
   "metadata": {},
   "outputs": [],
   "source": [
    "# Crear tabla 'actor'\n",
    "\n",
    "\n",
    "cursor.execute('drop table if exists actor;')\n",
    "\n",
    "\n",
    "\n",
    "tabla='''\n",
    "\n",
    "        create table actor (\n",
    "            \n",
    "            actor_id int primary key,\n",
    "            first_name varchar(50),\n",
    "            last_name  varchar(50)\n",
    "        );\n",
    "\n",
    "'''\n",
    "\n",
    "\n",
    "cursor.execute(tabla)\n",
    "\n",
    "\n"
   ]
  },
  {
   "cell_type": "code",
   "execution_count": 48,
   "id": "d9ec5945",
   "metadata": {},
   "outputs": [],
   "source": [
    "# Crear tabla 'language'\n",
    "\n",
    "cursor.execute('drop table if exists language')\n",
    "\n",
    "tabla= '''\n",
    "            create table language (\n",
    "            \n",
    "            language_id int primary key,\n",
    "            name varchar(50)         \n",
    "            \n",
    "            );\n",
    "'''\n",
    "cursor.execute(tabla)\n"
   ]
  },
  {
   "cell_type": "code",
   "execution_count": 49,
   "id": "ce9eddf7",
   "metadata": {},
   "outputs": [],
   "source": [
    "# Crear tabla 'category'\n",
    "\n",
    "cursor.execute('drop table if exists category')\n",
    "\n",
    "tabla = '''\n",
    "            create table category(\n",
    "            category_id int primary key,\n",
    "            name varchar(50)\n",
    "            \n",
    "            );\n",
    "'''\n",
    "\n",
    "cursor.execute(tabla)"
   ]
  },
  {
   "cell_type": "code",
   "execution_count": 50,
   "id": "19eca8c1",
   "metadata": {},
   "outputs": [],
   "source": [
    "# Crear tabla 'film'\n",
    "\n",
    "cursor.execute('drop table if exists film')\n",
    "\n",
    "tabla = '''\n",
    "            create table film(\n",
    "            \n",
    "            film_id int primary key,\n",
    "            title varchar(50),\n",
    "            description varchar(250),\n",
    "            release_year int,\n",
    "            rental_duration int,\n",
    "            rental_rate float,\n",
    "            length int,\n",
    "            replacement_cost float,\n",
    "            special_features varchar(250),\n",
    "            language_id int,\n",
    "            category_id int\n",
    "            \n",
    "            );\n",
    "'''\n",
    "\n",
    "cursor.execute(tabla)"
   ]
  },
  {
   "cell_type": "code",
   "execution_count": 51,
   "id": "965514d7",
   "metadata": {},
   "outputs": [],
   "source": [
    "# Crear tabla 'inventory'\n",
    "\n",
    "cursor.execute('drop table if exists inventory')\n",
    "\n",
    "tabla = '''\n",
    "            create table inventory(\n",
    "            \n",
    "            inventory_id int primary key,\n",
    "            film_id int,\n",
    "            store_id int\n",
    "            \n",
    "            );\n",
    "'''\n",
    "\n",
    "cursor.execute(tabla)"
   ]
  },
  {
   "cell_type": "code",
   "execution_count": 52,
   "id": "71c7e641",
   "metadata": {},
   "outputs": [],
   "source": [
    "# Crear tabla 'rental'\n",
    "\n",
    "cursor.execute('drop table if exists rental')\n",
    "\n",
    "tabla = '''\n",
    "            create table rental(\n",
    "            \n",
    "            rental_id int primary key,\n",
    "            rental_date datetime,\n",
    "            return_date datetime,\n",
    "            inventory_id int,\n",
    "            customer_id int,\n",
    "            staff_id int\n",
    "            \n",
    "            );\n",
    "'''\n",
    "\n",
    "cursor.execute(tabla)"
   ]
  },
  {
   "cell_type": "code",
   "execution_count": 53,
   "id": "0cd313ff",
   "metadata": {},
   "outputs": [],
   "source": [
    "# Creo tabla 'store'\n",
    "\n",
    "cursor.execute('drop table if exists store')\n",
    "\n",
    "tabla = ''' \n",
    "            create table store(\n",
    "            \n",
    "            store_id int primary key,\n",
    "            name varchar(50),\n",
    "            city varchar(50)\n",
    "    \n",
    "            );\n",
    "\n",
    "'''\n",
    "\n",
    "cursor.execute(tabla)"
   ]
  },
  {
   "cell_type": "code",
   "execution_count": 54,
   "id": "dcb6608a",
   "metadata": {},
   "outputs": [],
   "source": [
    "# Creo tabla 'customer'\n",
    "\n",
    "cursor.execute('drop table if exists customer')\n",
    "\n",
    "tabla = '''\n",
    "            create table customer(\n",
    "            \n",
    "            customer_id int primary key,\n",
    "            firstname varchar(50),\n",
    "            lastname varchar(50),\n",
    "            email varchar(100)\n",
    "            \n",
    "            );\n",
    "\n",
    "\n",
    "'''\n",
    "cursor.execute(tabla)"
   ]
  },
  {
   "cell_type": "code",
   "execution_count": 55,
   "id": "2cc1bd20",
   "metadata": {},
   "outputs": [],
   "source": [
    "# Creo tabla 'staff'\n",
    "\n",
    "cursor.execute('drop table if exists staff')\n",
    "\n",
    "tabla = '''\n",
    "            create table staff(\n",
    "            \n",
    "            staff_id int primary key,\n",
    "            firstname varchar(50),\n",
    "            lastname varchar(50),\n",
    "            salary int\n",
    "            \n",
    "            );\n",
    "\n",
    "'''\n",
    "\n",
    "cursor.execute(tabla)"
   ]
  },
  {
   "cell_type": "code",
   "execution_count": 56,
   "id": "8572b0bf",
   "metadata": {},
   "outputs": [],
   "source": [
    "# Creo la tabla 'actor_film' que hará de tabla intermedia en la relación many to many entre 'actor' y 'film'\n",
    "\n",
    "cursor.execute('drop table if exists actor_film')\n",
    "\n",
    "tabla = ''' \n",
    "            create table actor_film(\n",
    "            \n",
    "            actor_id int not null,\n",
    "            film_id int not null,\n",
    "            primary key(actor_id, film_id)\n",
    "            \n",
    "            \n",
    "            );\n",
    "\n",
    "\n",
    "'''\n",
    "\n",
    "cursor.execute(tabla)"
   ]
  },
  {
   "cell_type": "markdown",
   "id": "c382b629",
   "metadata": {},
   "source": [
    "### Revisara relacion many to many"
   ]
  },
  {
   "cell_type": "markdown",
   "id": "1d524bf2",
   "metadata": {},
   "source": [
    "## Creo relaciones entre tablas"
   ]
  },
  {
   "cell_type": "code",
   "execution_count": 58,
   "id": "3d002c15",
   "metadata": {},
   "outputs": [],
   "source": [
    "# Creo relaciones entre tabla 'film' y 'category' y 'language'\n",
    "\n",
    "\n",
    "\n",
    "relation = '''\n",
    "        \n",
    "            alter table film\n",
    "            add foreign key(category_id)\n",
    "            references category(category_id)\n",
    "            on delete set null;\n",
    "        \n",
    "            alter table film\n",
    "            add foreign key(language_id)\n",
    "            references language(language_id)\n",
    "            on delete set null;\n",
    "        \n",
    "        \n",
    "'''\n",
    "\n",
    "cursor.execute(relation)\n"
   ]
  },
  {
   "cell_type": "code",
   "execution_count": 61,
   "id": "a690934d",
   "metadata": {
    "scrolled": true
   },
   "outputs": [
    {
     "data": {
      "text/plain": [
       "'\\n            alter table inventory\\n            add foreign key(film_id)\\n            references film(film_id)\\n            on delete set null;\\n\\n\\n\\n            alter table inventory\\n            add foreign key(store_id)\\n            references store(store_id)\\n            on delete set null;\\n   \\n'"
      ]
     },
     "execution_count": 61,
     "metadata": {},
     "output_type": "execute_result"
    }
   ],
   "source": [
    "# Creo relaciones entre tabla 'inventory' y 'film' y 'store'\n",
    "\n",
    "# Me genera un error\n",
    "# DatabaseError: 2014 (HY000): Commands out of sync; you can't run this command now\n",
    "# No se que mierda del buffer con las queries\n",
    "\n",
    "'''\n",
    "            alter table inventory\n",
    "            add foreign key(film_id)\n",
    "            references film(film_id)\n",
    "            on delete set null;\n",
    "\n",
    "\n",
    "\n",
    "            alter table inventory\n",
    "            add foreign key(store_id)\n",
    "            references store(store_id)\n",
    "            on delete set null;\n",
    "   \n",
    "'''\n",
    "# Revisar con Yona\n"
   ]
  },
  {
   "cell_type": "code",
   "execution_count": null,
   "id": "40e3ec18",
   "metadata": {},
   "outputs": [],
   "source": [
    "# Creo relaciones entre tabla 'rental' y 'inventory', 'customer' y 'staff'\n",
    "\n",
    "\n",
    "'''        \n",
    "            alter table rental\n",
    "            add foreign key(inventory_id)\n",
    "            references inventory(inventory_id)\n",
    "            on delete set null;\n",
    "\n",
    "\n",
    "\n",
    "            alter table rental\n",
    "            add foreign key(customer_id)\n",
    "            references customer(customer_id)\n",
    "            on delete set null;\n",
    "            \n",
    "            alter table rental\n",
    "            add foreign key(staff_id)\n",
    "            references staff(staff_id)\n",
    "            on delete set null;\n",
    "            \n",
    "        '''"
   ]
  },
  {
   "cell_type": "code",
   "execution_count": null,
   "id": "e2240954",
   "metadata": {},
   "outputs": [],
   "source": [
    "# Creo relaciones entre tabla 'actor_film' y 'actor' y 'film'\n",
    "\n",
    "# Relacion many to many\n",
    "\n",
    "'''\n",
    "                alter table actor_film\n",
    "                add constraint \n",
    "                fk_actorfilm__actor foreign key(actor_id) references actor(actor_id);\n",
    "\n",
    "                alter table actor_film\n",
    "                add constraint \n",
    "                fk_actorfilm__film foreign key(film_id) references film(film_id);\n",
    "\n",
    "\n",
    "\n",
    "'''\n",
    "\n",
    "\n"
   ]
  }
 ],
 "metadata": {
  "kernelspec": {
   "display_name": "clase",
   "language": "python",
   "name": "clase"
  },
  "language_info": {
   "codemirror_mode": {
    "name": "ipython",
    "version": 3
   },
   "file_extension": ".py",
   "mimetype": "text/x-python",
   "name": "python",
   "nbconvert_exporter": "python",
   "pygments_lexer": "ipython3",
   "version": "3.9.7"
  }
 },
 "nbformat": 4,
 "nbformat_minor": 5
}
