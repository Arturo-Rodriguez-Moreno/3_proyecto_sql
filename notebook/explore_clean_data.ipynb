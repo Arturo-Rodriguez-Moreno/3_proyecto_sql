{
 "cells": [
  {
   "cell_type": "code",
   "execution_count": 1,
   "id": "fb4137ee",
   "metadata": {},
   "outputs": [
    {
     "name": "stdout",
     "output_type": "stream",
     "text": [
      "Requirement already satisfied: mysql-connector-python in c:\\programdata\\anaconda3\\lib\\site-packages (8.0.28)\n",
      "Requirement already satisfied: protobuf>=3.0.0 in c:\\programdata\\anaconda3\\lib\\site-packages (from mysql-connector-python) (3.20.0)\n"
     ]
    }
   ],
   "source": [
    "!pip install mysql-connector-python"
   ]
  },
  {
   "cell_type": "code",
   "execution_count": 2,
   "id": "1424d323",
   "metadata": {},
   "outputs": [],
   "source": [
    "import pandas as pd\n",
    "import numpy as np\n",
    "\n",
    "pd.set_option('display.max_columns', None)  # es para enseñar todas las columnas del df\n",
    "pd.set_option('display.max_rows', None)     # es para enseñar todas las filas del df\n",
    "\n",
    "\n",
    "import warnings\n",
    "warnings.simplefilter('ignore')   # es para quitar warnings"
   ]
  },
  {
   "cell_type": "code",
   "execution_count": 3,
   "id": "2f2bf802",
   "metadata": {},
   "outputs": [],
   "source": [
    "import mysql.connector as conn"
   ]
  },
  {
   "cell_type": "markdown",
   "id": "f793e9ee",
   "metadata": {},
   "source": [
    "# Importo todos archivos, exploro y modifico"
   ]
  },
  {
   "cell_type": "markdown",
   "id": "33d1d509",
   "metadata": {},
   "source": [
    "### ACTOR"
   ]
  },
  {
   "cell_type": "code",
   "execution_count": 4,
   "id": "9789446a",
   "metadata": {},
   "outputs": [],
   "source": [
    "df_actor=pd.read_csv('../data/actor.csv')\n"
   ]
  },
  {
   "cell_type": "code",
   "execution_count": 5,
   "id": "9606c9f4",
   "metadata": {},
   "outputs": [],
   "source": [
    "# Elimino la columna 'last_update'\n",
    "\n",
    "df_actor = df_actor.drop(['last_update'], axis=1)"
   ]
  },
  {
   "cell_type": "code",
   "execution_count": 6,
   "id": "30aafd16",
   "metadata": {
    "scrolled": true
   },
   "outputs": [
    {
     "name": "stdout",
     "output_type": "stream",
     "text": [
      "<class 'pandas.core.frame.DataFrame'>\n",
      "RangeIndex: 200 entries, 0 to 199\n",
      "Data columns (total 3 columns):\n",
      " #   Column      Non-Null Count  Dtype \n",
      "---  ------      --------------  ----- \n",
      " 0   actor_id    200 non-null    int64 \n",
      " 1   first_name  200 non-null    object\n",
      " 2   last_name   200 non-null    object\n",
      "dtypes: int64(1), object(2)\n",
      "memory usage: 26.2 KB\n"
     ]
    }
   ],
   "source": [
    "df_actor.info(memory_usage='deep')"
   ]
  },
  {
   "cell_type": "code",
   "execution_count": 7,
   "id": "970b5beb",
   "metadata": {},
   "outputs": [
    {
     "data": {
      "text/plain": [
       "True"
      ]
     },
     "execution_count": 7,
     "metadata": {},
     "output_type": "execute_result"
    }
   ],
   "source": [
    "len(df_actor.drop_duplicates())==len(df_actor)  # no hay duplicados"
   ]
  },
  {
   "cell_type": "markdown",
   "id": "40400b08",
   "metadata": {},
   "source": [
    "### CATEGORY"
   ]
  },
  {
   "cell_type": "code",
   "execution_count": 8,
   "id": "73db8694",
   "metadata": {},
   "outputs": [],
   "source": [
    "df_category=pd.read_csv('../data/category.csv')"
   ]
  },
  {
   "cell_type": "code",
   "execution_count": 9,
   "id": "2fbb5577",
   "metadata": {},
   "outputs": [],
   "source": [
    "# Elimino la columna 'last_update'\n",
    "\n",
    "df_category = df_category.drop(['last_update'], axis=1)"
   ]
  },
  {
   "cell_type": "code",
   "execution_count": 10,
   "id": "54f637e2",
   "metadata": {},
   "outputs": [],
   "source": [
    "# Crear una fila nueva con una nueva categoría.\n",
    "\n",
    "df2 = pd.DataFrame({'category_id': [99],\n",
    "                    'name' : ['Unknown']})\n",
    "\n",
    "df_category = pd.concat([df_category, df2], ignore_index = True, axis = 0)"
   ]
  },
  {
   "cell_type": "markdown",
   "id": "53d1203c",
   "metadata": {},
   "source": [
    "### FILM"
   ]
  },
  {
   "cell_type": "code",
   "execution_count": 11,
   "id": "ea594fd2",
   "metadata": {},
   "outputs": [],
   "source": [
    "df_film=pd.read_csv('../data/film.csv')\n"
   ]
  },
  {
   "cell_type": "markdown",
   "id": "de95559c",
   "metadata": {},
   "source": [
    "### INVENTORY"
   ]
  },
  {
   "cell_type": "code",
   "execution_count": 12,
   "id": "2d8265a6",
   "metadata": {},
   "outputs": [],
   "source": [
    "df_inventory=pd.read_csv('../data/inventory.csv')"
   ]
  },
  {
   "cell_type": "code",
   "execution_count": 13,
   "id": "74ddc36c",
   "metadata": {},
   "outputs": [],
   "source": [
    "# Elimino la columna 'last_update'\n",
    "\n",
    "df_inventory = df_inventory.drop(['last_update'], axis=1)"
   ]
  },
  {
   "cell_type": "markdown",
   "id": "6680c773",
   "metadata": {},
   "source": [
    "### LANGUAGE"
   ]
  },
  {
   "cell_type": "code",
   "execution_count": 14,
   "id": "7243d873",
   "metadata": {},
   "outputs": [],
   "source": [
    "df_language=pd.read_csv('../data/language.csv')\n"
   ]
  },
  {
   "cell_type": "code",
   "execution_count": 15,
   "id": "6a1e5492",
   "metadata": {},
   "outputs": [],
   "source": [
    "# Elimino la columna 'last_update'\n",
    "\n",
    "df_language = df_language.drop(['last_update'], axis=1)"
   ]
  },
  {
   "cell_type": "markdown",
   "id": "0142a5ed",
   "metadata": {},
   "source": [
    "### RENTAL"
   ]
  },
  {
   "cell_type": "code",
   "execution_count": 16,
   "id": "ed55a4d5",
   "metadata": {
    "scrolled": true
   },
   "outputs": [],
   "source": [
    "df_rental=pd.read_csv('../data/rental.csv')"
   ]
  },
  {
   "cell_type": "code",
   "execution_count": 17,
   "id": "88909e27",
   "metadata": {},
   "outputs": [],
   "source": [
    "# Cambio el 'return_date' a formato 'date'\n",
    "\n",
    "df_rental.rental_date = pd.to_datetime(df_rental.rental_date, format= '%Y-%m-%d')\n",
    "df_rental.return_date = pd.to_datetime(df_rental.return_date, format= '%Y-%m-%d')"
   ]
  },
  {
   "cell_type": "code",
   "execution_count": 18,
   "id": "4e565648",
   "metadata": {},
   "outputs": [],
   "source": [
    "# Elimino la columna 'last_update'\n",
    "\n",
    "df_rental = df_rental.drop(['last_update'], axis=1)"
   ]
  },
  {
   "cell_type": "code",
   "execution_count": 19,
   "id": "73cb4af7",
   "metadata": {},
   "outputs": [],
   "source": [
    "# Inserto numeros random en  la columna 'inventory_id'\n",
    "\n",
    "\n",
    "data_random = np.random.randint(1, 1000, size=1000)\n",
    "df_rental.inventory_id = data_random"
   ]
  },
  {
   "cell_type": "markdown",
   "id": "d42fa9b2",
   "metadata": {},
   "source": [
    "### OLD_HDD - Relaciones titulo, actor y categoría"
   ]
  },
  {
   "cell_type": "code",
   "execution_count": 20,
   "id": "66596f35",
   "metadata": {},
   "outputs": [],
   "source": [
    "df_old_HDD=pd.read_csv('../data/old_HDD.csv')"
   ]
  },
  {
   "cell_type": "code",
   "execution_count": 21,
   "id": "36f5a1f9",
   "metadata": {
    "scrolled": true
   },
   "outputs": [
    {
     "name": "stdout",
     "output_type": "stream",
     "text": [
      "<class 'pandas.core.frame.DataFrame'>\n",
      "RangeIndex: 1000 entries, 0 to 999\n",
      "Data columns (total 5 columns):\n",
      " #   Column        Non-Null Count  Dtype \n",
      "---  ------        --------------  ----- \n",
      " 0   first_name    1000 non-null   object\n",
      " 1   last_name     1000 non-null   object\n",
      " 2   title         1000 non-null   object\n",
      " 3   release_year  1000 non-null   int64 \n",
      " 4   category_id   1000 non-null   int64 \n",
      "dtypes: int64(2), object(3)\n",
      "memory usage: 207.6 KB\n"
     ]
    }
   ],
   "source": [
    "df_old_HDD.info(memory_usage='deep')"
   ]
  },
  {
   "cell_type": "markdown",
   "id": "efdd7de3",
   "metadata": {},
   "source": [
    "# Modificar y limpiar"
   ]
  },
  {
   "cell_type": "markdown",
   "id": "c63ea4fd",
   "metadata": {},
   "source": [
    "## Modifico tabla film"
   ]
  },
  {
   "cell_type": "code",
   "execution_count": 22,
   "id": "78d6a8f6",
   "metadata": {},
   "outputs": [],
   "source": [
    "# Hago un left join en 'df_film' para obtener 'category_id', haciendo que en films y old_HDD el index sea title.\n",
    "\n",
    "\n",
    "film = df_film.set_index('title').join(df_old_HDD[[\"title\", \"category_id\"]].set_index('title'), lsuffix='', rsuffix='_dcha', how='left')\n"
   ]
  },
  {
   "cell_type": "code",
   "execution_count": 23,
   "id": "3477a5ab",
   "metadata": {},
   "outputs": [],
   "source": [
    "# Le elimino duplicado que se generan\n",
    "\n",
    "film.drop_duplicates(inplace=True)"
   ]
  },
  {
   "cell_type": "code",
   "execution_count": 24,
   "id": "37e0ef0f",
   "metadata": {},
   "outputs": [],
   "source": [
    "# Le reseteo el indice\n",
    "\n",
    "film.reset_index(inplace=True)"
   ]
  },
  {
   "cell_type": "code",
   "execution_count": 25,
   "id": "1a592b4d",
   "metadata": {},
   "outputs": [],
   "source": [
    "# Relleno en la tabla film la columna category_id con 99 \n",
    "\n",
    "film.category_id.fillna(99, inplace=True)\n",
    "\n",
    "# Modificar la columna de category_id\n",
    "\n",
    "film.category_id = film.category_id.astype(dtype='int64')"
   ]
  },
  {
   "cell_type": "code",
   "execution_count": 26,
   "id": "1b2e4e19",
   "metadata": {},
   "outputs": [],
   "source": [
    "# Elimino la columna de original_language_id\n",
    "\n",
    "film.drop('original_language_id', axis=1, inplace=True)"
   ]
  },
  {
   "cell_type": "code",
   "execution_count": 27,
   "id": "25736c72",
   "metadata": {},
   "outputs": [],
   "source": [
    "# Elimino la columna 'last_update'\n",
    "\n",
    "film = film.drop(['last_update'], axis=1)"
   ]
  },
  {
   "cell_type": "markdown",
   "id": "9d1a086d",
   "metadata": {},
   "source": [
    "## Creo tabla actor_film"
   ]
  },
  {
   "cell_type": "code",
   "execution_count": 28,
   "id": "f424c56c",
   "metadata": {},
   "outputs": [],
   "source": [
    "actor = df_actor.copy(deep=True)"
   ]
  },
  {
   "cell_type": "code",
   "execution_count": 29,
   "id": "1636738b",
   "metadata": {},
   "outputs": [],
   "source": [
    "# Creo una columna y concateno first name y last name\n",
    "\n",
    "actor['name'] = actor['first_name'] + ' ' + actor['last_name']"
   ]
  },
  {
   "cell_type": "code",
   "execution_count": 30,
   "id": "661fc259",
   "metadata": {},
   "outputs": [],
   "source": [
    "hdd = df_old_HDD"
   ]
  },
  {
   "cell_type": "code",
   "execution_count": 31,
   "id": "d3a7a115",
   "metadata": {},
   "outputs": [],
   "source": [
    "# Creo una columna nueva y concateno first name y last name\n",
    "\n",
    "hdd['name'] = hdd['first_name'] + ' ' + hdd['last_name']"
   ]
  },
  {
   "cell_type": "code",
   "execution_count": 32,
   "id": "66f17a0c",
   "metadata": {},
   "outputs": [],
   "source": [
    "# Creo la tabla 'actor_film' que voy a utilizar como relación many to many entre actor y film.\n",
    "\n",
    "# Primero uso hdd para hacer un join a través del indice 'title' y obtener 'film_id'\n",
    "\n",
    "actor_film = hdd.set_index('title').join(film[[\"title\", \"film_id\"]].set_index('title'), lsuffix='', rsuffix='_dcha', how='left')\n"
   ]
  },
  {
   "cell_type": "code",
   "execution_count": 33,
   "id": "6e5e5fe2",
   "metadata": {},
   "outputs": [],
   "source": [
    "# Elimino duplicados por si se generaran\n",
    "\n",
    "actor_film.drop_duplicates(inplace=True)"
   ]
  },
  {
   "cell_type": "code",
   "execution_count": 34,
   "id": "cf1ba8bc",
   "metadata": {},
   "outputs": [],
   "source": [
    "# Reseteo el indice para que la columna 'title' vuelva a ser una columna\n",
    "\n",
    "actor_film.reset_index(inplace=True)"
   ]
  },
  {
   "cell_type": "code",
   "execution_count": 35,
   "id": "1642ef27",
   "metadata": {},
   "outputs": [],
   "source": [
    "# Primero uso 'actor_film' para hacer un join a través del indice 'name' y obtener 'actor_id'\n",
    "\n",
    "actor_film = actor_film.set_index('name').join(actor[[\"name\", \"actor_id\"]].set_index('name'), lsuffix='', rsuffix='_dcha', how='left')"
   ]
  },
  {
   "cell_type": "code",
   "execution_count": 36,
   "id": "907ef14f",
   "metadata": {},
   "outputs": [],
   "source": [
    "# Elimino duplicados y reseteo el índice\n",
    "\n",
    "actor_film.drop_duplicates(inplace=True)\n",
    "actor_film.reset_index(inplace=True)"
   ]
  },
  {
   "cell_type": "code",
   "execution_count": 37,
   "id": "06cffcbb",
   "metadata": {},
   "outputs": [],
   "source": [
    "# Sobreescribo 'actor_film' solo con las columnas de 'actor_id' y 'film_id'\n",
    "\n",
    "actor_film = actor_film[['actor_id', 'film_id']]"
   ]
  },
  {
   "cell_type": "markdown",
   "id": "00342099",
   "metadata": {},
   "source": [
    "## Creo e importo tablas nuevas"
   ]
  },
  {
   "cell_type": "code",
   "execution_count": 38,
   "id": "23472446",
   "metadata": {},
   "outputs": [],
   "source": [
    "# Creo 'df_store' dataframe\n",
    "\n",
    "store = {'store_id': [1, 2], 'name': ['Blockbuster MIA','Blockbuster Orlando' ], 'city': ['Miami', 'Orlando']}  \n",
    "  \n",
    "df_store = pd.DataFrame(store)"
   ]
  },
  {
   "cell_type": "code",
   "execution_count": 39,
   "id": "637d61e6",
   "metadata": {},
   "outputs": [],
   "source": [
    "# Creo 'df_staff' dataframe\n",
    "\n",
    "staff = {'staff_id': [1, 2], 'firstname': ['Barack','Donald' ], 'lastname': ['Obama', 'Trump'], 'salary': [35000, 35000]}  \n",
    "  \n",
    "df_staff = pd.DataFrame(staff)  \n"
   ]
  },
  {
   "cell_type": "code",
   "execution_count": 40,
   "id": "79e29508",
   "metadata": {},
   "outputs": [
    {
     "name": "stdout",
     "output_type": "stream",
     "text": [
      "<class 'pandas.core.frame.DataFrame'>\n",
      "RangeIndex: 1000 entries, 0 to 999\n",
      "Data columns (total 4 columns):\n",
      " #   Column       Non-Null Count  Dtype \n",
      "---  ------       --------------  ----- \n",
      " 0   customer_id  1000 non-null   int64 \n",
      " 1   firstname    1000 non-null   object\n",
      " 2   lastname     1000 non-null   object\n",
      " 3   email        1000 non-null   object\n",
      "dtypes: int64(1), object(3)\n",
      "memory usage: 31.4+ KB\n"
     ]
    }
   ],
   "source": [
    "# Importo un random csv de 'customers' y me creo tabla 'id_customer' \n",
    "\n",
    "df_customer=pd.read_csv('../data/customers.csv', sep=';')\n",
    "\n",
    "df_customer.info()"
   ]
  },
  {
   "cell_type": "markdown",
   "id": "d9065b45",
   "metadata": {},
   "source": [
    "## Exporto todas los dataframe a carpeta new_data"
   ]
  },
  {
   "cell_type": "code",
   "execution_count": 41,
   "id": "c94ad625",
   "metadata": {},
   "outputs": [],
   "source": [
    "df_category.to_csv('../data/new_data/category.csv', sep= \",\", index=False)\n",
    "\n",
    "df_language.to_csv('../data/new_data/language.csv', sep= \",\", index=False)\n",
    "\n",
    "df_actor.to_csv('../data/new_data/actor.csv', sep= \",\", index=False)\n",
    "\n",
    "actor_film.to_csv('../data/new_data/actor_film.csv', sep= \",\", index=False)\n",
    "\n",
    "film.to_csv('../data/new_data/film.csv', sep= \",\", index=False)\n",
    "\n",
    "df_inventory.to_csv('../data/new_data/inventory.csv', sep= \",\", index=False)\n",
    "\n",
    "df_rental.to_csv('../data/new_data/rental.csv', sep= \",\", index=False)\n",
    "\n",
    "df_store.to_csv('../data/new_data/store.csv', sep= \",\", index=False)\n",
    "\n",
    "df_customer.to_csv('../data/new_data/customer.csv', sep= \",\", index=False)\n",
    "\n",
    "\n",
    "df_staff.to_csv('../data/new_data/staff.csv', sep= \",\", index=False)"
   ]
  }
 ],
 "metadata": {
  "kernelspec": {
   "display_name": "clase",
   "language": "python",
   "name": "clase"
  },
  "language_info": {
   "codemirror_mode": {
    "name": "ipython",
    "version": 3
   },
   "file_extension": ".py",
   "mimetype": "text/x-python",
   "name": "python",
   "nbconvert_exporter": "python",
   "pygments_lexer": "ipython3",
   "version": "3.9.7"
  }
 },
 "nbformat": 4,
 "nbformat_minor": 5
}
